{
 "cells": [
  {
   "cell_type": "code",
   "execution_count": 110,
   "metadata": {},
   "outputs": [],
   "source": [
    "import pandas as pd\n",
    "from scipy.stats import norm\n",
    "import math\n",
    "from scipy.stats.mstats import winsorize"
   ]
  },
  {
   "cell_type": "code",
   "execution_count": 111,
   "metadata": {},
   "outputs": [],
   "source": [
    "data = pd.read_csv(\"final_data.csv\")"
   ]
  },
  {
   "cell_type": "code",
   "execution_count": 112,
   "metadata": {
    "scrolled": true
   },
   "outputs": [
    {
     "data": {
      "text/html": [
       "<div>\n",
       "<style scoped>\n",
       "    .dataframe tbody tr th:only-of-type {\n",
       "        vertical-align: middle;\n",
       "    }\n",
       "\n",
       "    .dataframe tbody tr th {\n",
       "        vertical-align: top;\n",
       "    }\n",
       "\n",
       "    .dataframe thead th {\n",
       "        text-align: right;\n",
       "    }\n",
       "</style>\n",
       "<table border=\"1\" class=\"dataframe\">\n",
       "  <thead>\n",
       "    <tr style=\"text-align: right;\">\n",
       "      <th></th>\n",
       "      <th>name</th>\n",
       "      <th>Date</th>\n",
       "      <th>Divedend_yield_ratio_growth</th>\n",
       "      <th>BPS_growth</th>\n",
       "      <th>PER_growth</th>\n",
       "      <th>EPS_growth</th>\n",
       "      <th>Profit_growth</th>\n",
       "      <th>Revenue_growth</th>\n",
       "      <th>W/L</th>\n",
       "    </tr>\n",
       "  </thead>\n",
       "  <tbody>\n",
       "    <tr>\n",
       "      <th>0</th>\n",
       "      <td>hyundai_0</td>\n",
       "      <td>2019-09-30 0:00</td>\n",
       "      <td>0.975610</td>\n",
       "      <td>3.048234</td>\n",
       "      <td>-7.142857</td>\n",
       "      <td>13.178898</td>\n",
       "      <td>16.56</td>\n",
       "      <td>6.13</td>\n",
       "      <td>0</td>\n",
       "    </tr>\n",
       "    <tr>\n",
       "      <th>1</th>\n",
       "      <td>hyundai_1</td>\n",
       "      <td>2019-06-28 0:00</td>\n",
       "      <td>-8.374384</td>\n",
       "      <td>-0.634511</td>\n",
       "      <td>15.818182</td>\n",
       "      <td>-11.763193</td>\n",
       "      <td>-6.01</td>\n",
       "      <td>5.12</td>\n",
       "      <td>1</td>\n",
       "    </tr>\n",
       "    <tr>\n",
       "      <th>2</th>\n",
       "      <td>hyundai_2</td>\n",
       "      <td>2019-03-29 0:00</td>\n",
       "      <td>-2.727273</td>\n",
       "      <td>0.000000</td>\n",
       "      <td>2.735781</td>\n",
       "      <td>0.000000</td>\n",
       "      <td>-34.26</td>\n",
       "      <td>1.01</td>\n",
       "      <td>1</td>\n",
       "    </tr>\n",
       "    <tr>\n",
       "      <th>3</th>\n",
       "      <td>hyundai_3</td>\n",
       "      <td>2018-12-28 0:00</td>\n",
       "      <td>11.061947</td>\n",
       "      <td>0.069947</td>\n",
       "      <td>-7.549963</td>\n",
       "      <td>-4.404573</td>\n",
       "      <td>-34.26</td>\n",
       "      <td>1.01</td>\n",
       "      <td>0</td>\n",
       "    </tr>\n",
       "    <tr>\n",
       "      <th>4</th>\n",
       "      <td>hyundai_4</td>\n",
       "      <td>2018-09-28 0:00</td>\n",
       "      <td>-6.965174</td>\n",
       "      <td>1.086317</td>\n",
       "      <td>7.639367</td>\n",
       "      <td>-25.801486</td>\n",
       "      <td>-13.95</td>\n",
       "      <td>4.15</td>\n",
       "      <td>1</td>\n",
       "    </tr>\n",
       "    <tr>\n",
       "      <th>...</th>\n",
       "      <td>...</td>\n",
       "      <td>...</td>\n",
       "      <td>...</td>\n",
       "      <td>...</td>\n",
       "      <td>...</td>\n",
       "      <td>...</td>\n",
       "      <td>...</td>\n",
       "      <td>...</td>\n",
       "      <td>...</td>\n",
       "    </tr>\n",
       "    <tr>\n",
       "      <th>291</th>\n",
       "      <td>hhi_32</td>\n",
       "      <td>2011-09-30 0:00</td>\n",
       "      <td>17.482517</td>\n",
       "      <td>8.516521</td>\n",
       "      <td>-27.400000</td>\n",
       "      <td>8.694227</td>\n",
       "      <td>-26.24</td>\n",
       "      <td>6.39</td>\n",
       "      <td>0</td>\n",
       "    </tr>\n",
       "    <tr>\n",
       "      <th>292</th>\n",
       "      <td>hhi_33</td>\n",
       "      <td>2011-06-30 0:00</td>\n",
       "      <td>18.644068</td>\n",
       "      <td>2.343066</td>\n",
       "      <td>-6.593407</td>\n",
       "      <td>4.813567</td>\n",
       "      <td>20.57</td>\n",
       "      <td>18.46</td>\n",
       "      <td>0</td>\n",
       "    </tr>\n",
       "    <tr>\n",
       "      <th>293</th>\n",
       "      <td>hhi_34</td>\n",
       "      <td>2011-03-31 0:00</td>\n",
       "      <td>-3.125000</td>\n",
       "      <td>0.000000</td>\n",
       "      <td>2.798233</td>\n",
       "      <td>0.000000</td>\n",
       "      <td>22.45</td>\n",
       "      <td>9.88</td>\n",
       "      <td>1</td>\n",
       "    </tr>\n",
       "    <tr>\n",
       "      <th>294</th>\n",
       "      <td>hhi_35</td>\n",
       "      <td>2010-12-30 0:00</td>\n",
       "      <td>-10.101010</td>\n",
       "      <td>3.773967</td>\n",
       "      <td>4.848485</td>\n",
       "      <td>2.482947</td>\n",
       "      <td>22.45</td>\n",
       "      <td>9.88</td>\n",
       "      <td>1</td>\n",
       "    </tr>\n",
       "    <tr>\n",
       "      <th>295</th>\n",
       "      <td>hhi_36</td>\n",
       "      <td>2010-09-30 0:00</td>\n",
       "      <td>-5.504587</td>\n",
       "      <td>4.463924</td>\n",
       "      <td>-35.350318</td>\n",
       "      <td>31.878274</td>\n",
       "      <td>39.37</td>\n",
       "      <td>16.22</td>\n",
       "      <td>1</td>\n",
       "    </tr>\n",
       "  </tbody>\n",
       "</table>\n",
       "<p>296 rows × 9 columns</p>\n",
       "</div>"
      ],
      "text/plain": [
       "          name             Date  Divedend_yield_ratio_growth  BPS_growth  \\\n",
       "0    hyundai_0  2019-09-30 0:00                     0.975610    3.048234   \n",
       "1    hyundai_1  2019-06-28 0:00                    -8.374384   -0.634511   \n",
       "2    hyundai_2  2019-03-29 0:00                    -2.727273    0.000000   \n",
       "3    hyundai_3  2018-12-28 0:00                    11.061947    0.069947   \n",
       "4    hyundai_4  2018-09-28 0:00                    -6.965174    1.086317   \n",
       "..         ...              ...                          ...         ...   \n",
       "291     hhi_32  2011-09-30 0:00                    17.482517    8.516521   \n",
       "292     hhi_33  2011-06-30 0:00                    18.644068    2.343066   \n",
       "293     hhi_34  2011-03-31 0:00                    -3.125000    0.000000   \n",
       "294     hhi_35  2010-12-30 0:00                   -10.101010    3.773967   \n",
       "295     hhi_36  2010-09-30 0:00                    -5.504587    4.463924   \n",
       "\n",
       "     PER_growth  EPS_growth  Profit_growth  Revenue_growth  W/L  \n",
       "0     -7.142857   13.178898          16.56            6.13    0  \n",
       "1     15.818182  -11.763193          -6.01            5.12    1  \n",
       "2      2.735781    0.000000         -34.26            1.01    1  \n",
       "3     -7.549963   -4.404573         -34.26            1.01    0  \n",
       "4      7.639367  -25.801486         -13.95            4.15    1  \n",
       "..          ...         ...            ...             ...  ...  \n",
       "291  -27.400000    8.694227         -26.24            6.39    0  \n",
       "292   -6.593407    4.813567          20.57           18.46    0  \n",
       "293    2.798233    0.000000          22.45            9.88    1  \n",
       "294    4.848485    2.482947          22.45            9.88    1  \n",
       "295  -35.350318   31.878274          39.37           16.22    1  \n",
       "\n",
       "[296 rows x 9 columns]"
      ]
     },
     "execution_count": 112,
     "metadata": {},
     "output_type": "execute_result"
    }
   ],
   "source": [
    "data"
   ]
  },
  {
   "cell_type": "code",
   "execution_count": 113,
   "metadata": {},
   "outputs": [],
   "source": [
    "# Win인 그룹\n",
    "win_group = data[data['W/L'] == 1]"
   ]
  },
  {
   "cell_type": "code",
   "execution_count": 114,
   "metadata": {},
   "outputs": [],
   "source": [
    "# Lose인 그룹\n",
    "lose_group = data[data['W/L'] == 0]"
   ]
  },
  {
   "cell_type": "markdown",
   "metadata": {},
   "source": [
    "### Win_group result만들기."
   ]
  },
  {
   "cell_type": "code",
   "execution_count": 115,
   "metadata": {},
   "outputs": [],
   "source": [
    "# column list로 구하기.\n",
    "columns = list(data.columns)\n",
    "\n",
    "# 필요없는 column 삭제\n",
    "columns.remove('name')\n",
    "columns.remove('Date')\n",
    "columns.remove('W/L')"
   ]
  },
  {
   "cell_type": "code",
   "execution_count": 116,
   "metadata": {},
   "outputs": [],
   "source": [
    "# win_group_result의 결과값을 저장할 dataframe 생성.\n",
    "win_group_result = pd.DataFrame(columns=columns)"
   ]
  },
  {
   "cell_type": "code",
   "execution_count": 117,
   "metadata": {},
   "outputs": [
    {
     "data": {
      "text/html": [
       "<div>\n",
       "<style scoped>\n",
       "    .dataframe tbody tr th:only-of-type {\n",
       "        vertical-align: middle;\n",
       "    }\n",
       "\n",
       "    .dataframe tbody tr th {\n",
       "        vertical-align: top;\n",
       "    }\n",
       "\n",
       "    .dataframe thead th {\n",
       "        text-align: right;\n",
       "    }\n",
       "</style>\n",
       "<table border=\"1\" class=\"dataframe\">\n",
       "  <thead>\n",
       "    <tr style=\"text-align: right;\">\n",
       "      <th></th>\n",
       "      <th>Divedend_yield_ratio_growth</th>\n",
       "      <th>BPS_growth</th>\n",
       "      <th>PER_growth</th>\n",
       "      <th>EPS_growth</th>\n",
       "      <th>Profit_growth</th>\n",
       "      <th>Revenue_growth</th>\n",
       "    </tr>\n",
       "  </thead>\n",
       "  <tbody>\n",
       "  </tbody>\n",
       "</table>\n",
       "</div>"
      ],
      "text/plain": [
       "Empty DataFrame\n",
       "Columns: [Divedend_yield_ratio_growth, BPS_growth, PER_growth, EPS_growth, Profit_growth, Revenue_growth]\n",
       "Index: []"
      ]
     },
     "execution_count": 117,
     "metadata": {},
     "output_type": "execute_result"
    }
   ],
   "source": [
    "win_group_result"
   ]
  },
  {
   "cell_type": "code",
   "execution_count": 118,
   "metadata": {
    "scrolled": true
   },
   "outputs": [],
   "source": [
    "mean_list = []\n",
    "std_list = []\n",
    "    \n",
    "for column in columns:\n",
    "    mean_list.append(winsorize(win_group[column], 0.05).mean()) #mean 추가\n",
    "    std_list.append(winsorize(win_group[column], 0.05).std()) #std 추가"
   ]
  },
  {
   "cell_type": "code",
   "execution_count": 119,
   "metadata": {},
   "outputs": [],
   "source": [
    "# 각각 자리에 넣기.\n",
    "win_group_result.loc[0] = mean_list\n",
    "win_group_result.loc[1] = std_list"
   ]
  },
  {
   "cell_type": "code",
   "execution_count": 120,
   "metadata": {},
   "outputs": [],
   "source": [
    "# cateogry column만들기.\n",
    "win_group_result['category'] = ['mean', 'std']"
   ]
  },
  {
   "cell_type": "code",
   "execution_count": 121,
   "metadata": {},
   "outputs": [],
   "source": [
    "# column에 category만들기.\n",
    "columns.insert(0,'category')"
   ]
  },
  {
   "cell_type": "code",
   "execution_count": 122,
   "metadata": {},
   "outputs": [],
   "source": [
    "win_group_result = win_group_result[columns]"
   ]
  },
  {
   "cell_type": "code",
   "execution_count": 123,
   "metadata": {},
   "outputs": [
    {
     "data": {
      "text/html": [
       "<div>\n",
       "<style scoped>\n",
       "    .dataframe tbody tr th:only-of-type {\n",
       "        vertical-align: middle;\n",
       "    }\n",
       "\n",
       "    .dataframe tbody tr th {\n",
       "        vertical-align: top;\n",
       "    }\n",
       "\n",
       "    .dataframe thead th {\n",
       "        text-align: right;\n",
       "    }\n",
       "</style>\n",
       "<table border=\"1\" class=\"dataframe\">\n",
       "  <thead>\n",
       "    <tr style=\"text-align: right;\">\n",
       "      <th></th>\n",
       "      <th>category</th>\n",
       "      <th>Divedend_yield_ratio_growth</th>\n",
       "      <th>BPS_growth</th>\n",
       "      <th>PER_growth</th>\n",
       "      <th>EPS_growth</th>\n",
       "      <th>Profit_growth</th>\n",
       "      <th>Revenue_growth</th>\n",
       "    </tr>\n",
       "  </thead>\n",
       "  <tbody>\n",
       "    <tr>\n",
       "      <th>0</th>\n",
       "      <td>mean</td>\n",
       "      <td>-5.912376</td>\n",
       "      <td>1.575258</td>\n",
       "      <td>3.501042</td>\n",
       "      <td>0.486263</td>\n",
       "      <td>12.365860</td>\n",
       "      <td>7.085096</td>\n",
       "    </tr>\n",
       "    <tr>\n",
       "      <th>1</th>\n",
       "      <td>std</td>\n",
       "      <td>7.148527</td>\n",
       "      <td>2.741275</td>\n",
       "      <td>15.818592</td>\n",
       "      <td>19.533586</td>\n",
       "      <td>38.778937</td>\n",
       "      <td>9.459549</td>\n",
       "    </tr>\n",
       "  </tbody>\n",
       "</table>\n",
       "</div>"
      ],
      "text/plain": [
       "  category  Divedend_yield_ratio_growth  BPS_growth  PER_growth  EPS_growth  \\\n",
       "0     mean                    -5.912376    1.575258    3.501042    0.486263   \n",
       "1      std                     7.148527    2.741275   15.818592   19.533586   \n",
       "\n",
       "   Profit_growth  Revenue_growth  \n",
       "0      12.365860        7.085096  \n",
       "1      38.778937        9.459549  "
      ]
     },
     "execution_count": 123,
     "metadata": {},
     "output_type": "execute_result"
    }
   ],
   "source": [
    "win_group_result"
   ]
  },
  {
   "cell_type": "markdown",
   "metadata": {},
   "source": [
    "### Loss group result만들기."
   ]
  },
  {
   "cell_type": "code",
   "execution_count": 124,
   "metadata": {},
   "outputs": [],
   "source": [
    "# column list로 구하기.\n",
    "columns = list(data.columns)\n",
    "\n",
    "# 필요없는 column 삭제\n",
    "columns.remove('name')\n",
    "columns.remove('Date')\n",
    "columns.remove('W/L')"
   ]
  },
  {
   "cell_type": "code",
   "execution_count": 125,
   "metadata": {},
   "outputs": [],
   "source": [
    "# win_group_result의 결과값을 저장할 dataframe 생성.\n",
    "lose_group_result = pd.DataFrame(columns=columns)"
   ]
  },
  {
   "cell_type": "code",
   "execution_count": 126,
   "metadata": {},
   "outputs": [
    {
     "data": {
      "text/html": [
       "<div>\n",
       "<style scoped>\n",
       "    .dataframe tbody tr th:only-of-type {\n",
       "        vertical-align: middle;\n",
       "    }\n",
       "\n",
       "    .dataframe tbody tr th {\n",
       "        vertical-align: top;\n",
       "    }\n",
       "\n",
       "    .dataframe thead th {\n",
       "        text-align: right;\n",
       "    }\n",
       "</style>\n",
       "<table border=\"1\" class=\"dataframe\">\n",
       "  <thead>\n",
       "    <tr style=\"text-align: right;\">\n",
       "      <th></th>\n",
       "      <th>Divedend_yield_ratio_growth</th>\n",
       "      <th>BPS_growth</th>\n",
       "      <th>PER_growth</th>\n",
       "      <th>EPS_growth</th>\n",
       "      <th>Profit_growth</th>\n",
       "      <th>Revenue_growth</th>\n",
       "    </tr>\n",
       "  </thead>\n",
       "  <tbody>\n",
       "  </tbody>\n",
       "</table>\n",
       "</div>"
      ],
      "text/plain": [
       "Empty DataFrame\n",
       "Columns: [Divedend_yield_ratio_growth, BPS_growth, PER_growth, EPS_growth, Profit_growth, Revenue_growth]\n",
       "Index: []"
      ]
     },
     "execution_count": 126,
     "metadata": {},
     "output_type": "execute_result"
    }
   ],
   "source": [
    "lose_group_result"
   ]
  },
  {
   "cell_type": "code",
   "execution_count": 127,
   "metadata": {
    "scrolled": true
   },
   "outputs": [],
   "source": [
    "mean_list = []\n",
    "std_list = []\n",
    "    \n",
    "for column in columns:\n",
    "    mean_list.append(winsorize(lose_group[column], 0.05).mean()) #mean 추가\n",
    "    std_list.append(winsorize(lose_group[column], 0.05).std()) #std 추가"
   ]
  },
  {
   "cell_type": "code",
   "execution_count": 128,
   "metadata": {},
   "outputs": [],
   "source": [
    "# 각각 자리에 넣기.\n",
    "lose_group_result.loc[0] = mean_list\n",
    "lose_group_result.loc[1] = std_list"
   ]
  },
  {
   "cell_type": "code",
   "execution_count": 129,
   "metadata": {},
   "outputs": [],
   "source": [
    "# cateogry column만들기.\n",
    "lose_group_result['category'] = ['mean', 'std']"
   ]
  },
  {
   "cell_type": "code",
   "execution_count": 130,
   "metadata": {},
   "outputs": [],
   "source": [
    "# column에 category만들기.\n",
    "columns.insert(0,'category')"
   ]
  },
  {
   "cell_type": "code",
   "execution_count": 131,
   "metadata": {},
   "outputs": [],
   "source": [
    "lose_group_result = lose_group_result[columns]"
   ]
  },
  {
   "cell_type": "code",
   "execution_count": 132,
   "metadata": {},
   "outputs": [
    {
     "data": {
      "text/html": [
       "<div>\n",
       "<style scoped>\n",
       "    .dataframe tbody tr th:only-of-type {\n",
       "        vertical-align: middle;\n",
       "    }\n",
       "\n",
       "    .dataframe tbody tr th {\n",
       "        vertical-align: top;\n",
       "    }\n",
       "\n",
       "    .dataframe thead th {\n",
       "        text-align: right;\n",
       "    }\n",
       "</style>\n",
       "<table border=\"1\" class=\"dataframe\">\n",
       "  <thead>\n",
       "    <tr style=\"text-align: right;\">\n",
       "      <th></th>\n",
       "      <th>category</th>\n",
       "      <th>Divedend_yield_ratio_growth</th>\n",
       "      <th>BPS_growth</th>\n",
       "      <th>PER_growth</th>\n",
       "      <th>EPS_growth</th>\n",
       "      <th>Profit_growth</th>\n",
       "      <th>Revenue_growth</th>\n",
       "    </tr>\n",
       "  </thead>\n",
       "  <tbody>\n",
       "    <tr>\n",
       "      <th>0</th>\n",
       "      <td>mean</td>\n",
       "      <td>8.249887</td>\n",
       "      <td>1.894620</td>\n",
       "      <td>-4.130154</td>\n",
       "      <td>-1.095501</td>\n",
       "      <td>13.384317</td>\n",
       "      <td>7.191655</td>\n",
       "    </tr>\n",
       "    <tr>\n",
       "      <th>1</th>\n",
       "      <td>std</td>\n",
       "      <td>9.215326</td>\n",
       "      <td>3.348483</td>\n",
       "      <td>23.000125</td>\n",
       "      <td>24.816328</td>\n",
       "      <td>47.549409</td>\n",
       "      <td>9.685198</td>\n",
       "    </tr>\n",
       "  </tbody>\n",
       "</table>\n",
       "</div>"
      ],
      "text/plain": [
       "  category  Divedend_yield_ratio_growth  BPS_growth  PER_growth  EPS_growth  \\\n",
       "0     mean                     8.249887    1.894620   -4.130154   -1.095501   \n",
       "1      std                     9.215326    3.348483   23.000125   24.816328   \n",
       "\n",
       "   Profit_growth  Revenue_growth  \n",
       "0      13.384317        7.191655  \n",
       "1      47.549409        9.685198  "
      ]
     },
     "execution_count": 132,
     "metadata": {},
     "output_type": "execute_result"
    }
   ],
   "source": [
    "lose_group_result"
   ]
  },
  {
   "cell_type": "markdown",
   "metadata": {},
   "source": [
    "# WIN_LOSS 계산"
   ]
  },
  {
   "cell_type": "code",
   "execution_count": 133,
   "metadata": {},
   "outputs": [
    {
     "data": {
      "text/html": [
       "<div>\n",
       "<style scoped>\n",
       "    .dataframe tbody tr th:only-of-type {\n",
       "        vertical-align: middle;\n",
       "    }\n",
       "\n",
       "    .dataframe tbody tr th {\n",
       "        vertical-align: top;\n",
       "    }\n",
       "\n",
       "    .dataframe thead th {\n",
       "        text-align: right;\n",
       "    }\n",
       "</style>\n",
       "<table border=\"1\" class=\"dataframe\">\n",
       "  <thead>\n",
       "    <tr style=\"text-align: right;\">\n",
       "      <th></th>\n",
       "      <th>category</th>\n",
       "      <th>Divedend_yield_ratio_growth</th>\n",
       "      <th>BPS_growth</th>\n",
       "      <th>PER_growth</th>\n",
       "      <th>EPS_growth</th>\n",
       "      <th>Profit_growth</th>\n",
       "      <th>Revenue_growth</th>\n",
       "    </tr>\n",
       "  </thead>\n",
       "  <tbody>\n",
       "    <tr>\n",
       "      <th>0</th>\n",
       "      <td>mean</td>\n",
       "      <td>-5.912376</td>\n",
       "      <td>1.575258</td>\n",
       "      <td>3.501042</td>\n",
       "      <td>0.486263</td>\n",
       "      <td>12.365860</td>\n",
       "      <td>7.085096</td>\n",
       "    </tr>\n",
       "    <tr>\n",
       "      <th>1</th>\n",
       "      <td>std</td>\n",
       "      <td>7.148527</td>\n",
       "      <td>2.741275</td>\n",
       "      <td>15.818592</td>\n",
       "      <td>19.533586</td>\n",
       "      <td>38.778937</td>\n",
       "      <td>9.459549</td>\n",
       "    </tr>\n",
       "  </tbody>\n",
       "</table>\n",
       "</div>"
      ],
      "text/plain": [
       "  category  Divedend_yield_ratio_growth  BPS_growth  PER_growth  EPS_growth  \\\n",
       "0     mean                    -5.912376    1.575258    3.501042    0.486263   \n",
       "1      std                     7.148527    2.741275   15.818592   19.533586   \n",
       "\n",
       "   Profit_growth  Revenue_growth  \n",
       "0      12.365860        7.085096  \n",
       "1      38.778937        9.459549  "
      ]
     },
     "execution_count": 133,
     "metadata": {},
     "output_type": "execute_result"
    }
   ],
   "source": [
    "win_group_result"
   ]
  },
  {
   "cell_type": "code",
   "execution_count": 134,
   "metadata": {},
   "outputs": [
    {
     "data": {
      "text/html": [
       "<div>\n",
       "<style scoped>\n",
       "    .dataframe tbody tr th:only-of-type {\n",
       "        vertical-align: middle;\n",
       "    }\n",
       "\n",
       "    .dataframe tbody tr th {\n",
       "        vertical-align: top;\n",
       "    }\n",
       "\n",
       "    .dataframe thead th {\n",
       "        text-align: right;\n",
       "    }\n",
       "</style>\n",
       "<table border=\"1\" class=\"dataframe\">\n",
       "  <thead>\n",
       "    <tr style=\"text-align: right;\">\n",
       "      <th></th>\n",
       "      <th>category</th>\n",
       "      <th>Divedend_yield_ratio_growth</th>\n",
       "      <th>BPS_growth</th>\n",
       "      <th>PER_growth</th>\n",
       "      <th>EPS_growth</th>\n",
       "      <th>Profit_growth</th>\n",
       "      <th>Revenue_growth</th>\n",
       "    </tr>\n",
       "  </thead>\n",
       "  <tbody>\n",
       "    <tr>\n",
       "      <th>0</th>\n",
       "      <td>mean</td>\n",
       "      <td>8.249887</td>\n",
       "      <td>1.894620</td>\n",
       "      <td>-4.130154</td>\n",
       "      <td>-1.095501</td>\n",
       "      <td>13.384317</td>\n",
       "      <td>7.191655</td>\n",
       "    </tr>\n",
       "    <tr>\n",
       "      <th>1</th>\n",
       "      <td>std</td>\n",
       "      <td>9.215326</td>\n",
       "      <td>3.348483</td>\n",
       "      <td>23.000125</td>\n",
       "      <td>24.816328</td>\n",
       "      <td>47.549409</td>\n",
       "      <td>9.685198</td>\n",
       "    </tr>\n",
       "  </tbody>\n",
       "</table>\n",
       "</div>"
      ],
      "text/plain": [
       "  category  Divedend_yield_ratio_growth  BPS_growth  PER_growth  EPS_growth  \\\n",
       "0     mean                     8.249887    1.894620   -4.130154   -1.095501   \n",
       "1      std                     9.215326    3.348483   23.000125   24.816328   \n",
       "\n",
       "   Profit_growth  Revenue_growth  \n",
       "0      13.384317        7.191655  \n",
       "1      47.549409        9.685198  "
      ]
     },
     "execution_count": 134,
     "metadata": {},
     "output_type": "execute_result"
    }
   ],
   "source": [
    "lose_group_result"
   ]
  },
  {
   "cell_type": "code",
   "execution_count": 135,
   "metadata": {},
   "outputs": [
    {
     "data": {
      "text/plain": [
       "0.030459881364505555"
      ]
     },
     "execution_count": 135,
     "metadata": {},
     "output_type": "execute_result"
    }
   ],
   "source": [
    "norm.pdf(0.97561,-5.873467,10.650978)"
   ]
  },
  {
   "cell_type": "code",
   "execution_count": 136,
   "metadata": {},
   "outputs": [
    {
     "data": {
      "text/plain": [
       "-5.912376423815286"
      ]
     },
     "execution_count": 136,
     "metadata": {},
     "output_type": "execute_result"
    }
   ],
   "source": [
    "win_group_result.iloc[0,1]"
   ]
  },
  {
   "cell_type": "code",
   "execution_count": 137,
   "metadata": {},
   "outputs": [
    {
     "data": {
      "text/html": [
       "<div>\n",
       "<style scoped>\n",
       "    .dataframe tbody tr th:only-of-type {\n",
       "        vertical-align: middle;\n",
       "    }\n",
       "\n",
       "    .dataframe tbody tr th {\n",
       "        vertical-align: top;\n",
       "    }\n",
       "\n",
       "    .dataframe thead th {\n",
       "        text-align: right;\n",
       "    }\n",
       "</style>\n",
       "<table border=\"1\" class=\"dataframe\">\n",
       "  <thead>\n",
       "    <tr style=\"text-align: right;\">\n",
       "      <th></th>\n",
       "      <th>category</th>\n",
       "      <th>Divedend_yield_ratio_growth</th>\n",
       "      <th>BPS_growth</th>\n",
       "      <th>PER_growth</th>\n",
       "      <th>EPS_growth</th>\n",
       "      <th>Profit_growth</th>\n",
       "      <th>Revenue_growth</th>\n",
       "    </tr>\n",
       "  </thead>\n",
       "  <tbody>\n",
       "    <tr>\n",
       "      <th>0</th>\n",
       "      <td>mean</td>\n",
       "      <td>-5.912376</td>\n",
       "      <td>1.575258</td>\n",
       "      <td>3.501042</td>\n",
       "      <td>0.486263</td>\n",
       "      <td>12.365860</td>\n",
       "      <td>7.085096</td>\n",
       "    </tr>\n",
       "    <tr>\n",
       "      <th>1</th>\n",
       "      <td>std</td>\n",
       "      <td>7.148527</td>\n",
       "      <td>2.741275</td>\n",
       "      <td>15.818592</td>\n",
       "      <td>19.533586</td>\n",
       "      <td>38.778937</td>\n",
       "      <td>9.459549</td>\n",
       "    </tr>\n",
       "  </tbody>\n",
       "</table>\n",
       "</div>"
      ],
      "text/plain": [
       "  category  Divedend_yield_ratio_growth  BPS_growth  PER_growth  EPS_growth  \\\n",
       "0     mean                    -5.912376    1.575258    3.501042    0.486263   \n",
       "1      std                     7.148527    2.741275   15.818592   19.533586   \n",
       "\n",
       "   Profit_growth  Revenue_growth  \n",
       "0      12.365860        7.085096  \n",
       "1      38.778937        9.459549  "
      ]
     },
     "execution_count": 137,
     "metadata": {},
     "output_type": "execute_result"
    }
   ],
   "source": [
    "win_group_result"
   ]
  },
  {
   "cell_type": "code",
   "execution_count": 138,
   "metadata": {},
   "outputs": [],
   "source": [
    "test = data.iloc[0][2:-1]"
   ]
  },
  {
   "cell_type": "code",
   "execution_count": 139,
   "metadata": {},
   "outputs": [
    {
     "data": {
      "text/plain": [
       "-21.1841995137696"
      ]
     },
     "execution_count": 139,
     "metadata": {},
     "output_type": "execute_result"
    }
   ],
   "source": [
    "# win_group prob 구하기.\n",
    "\n",
    "result = 1\n",
    "for i in range(len(test)):\n",
    "    prob = norm.pdf(test[i], win_group_result.iloc[0, i+1], win_group_result.iloc[1, i+1])\n",
    "    result *= prob\n",
    "    \n",
    "math.log(result)"
   ]
  },
  {
   "cell_type": "code",
   "execution_count": 140,
   "metadata": {},
   "outputs": [
    {
     "data": {
      "text/plain": [
       "-21.975518533987167"
      ]
     },
     "execution_count": 140,
     "metadata": {},
     "output_type": "execute_result"
    }
   ],
   "source": [
    "# loss_group prob 구하기.\n",
    "\n",
    "result = 1\n",
    "for i in range(len(test)):\n",
    "    prob = norm.pdf(test[i], lose_group_result.iloc[0, i+1], lose_group_result.iloc[1, i+1])\n",
    "    result *= prob\n",
    "    \n",
    "math.log(result)"
   ]
  },
  {
   "cell_type": "markdown",
   "metadata": {},
   "source": [
    "# Win_Lose dataframe 구하기."
   ]
  },
  {
   "cell_type": "code",
   "execution_count": 141,
   "metadata": {},
   "outputs": [],
   "source": [
    "temp_column = ['name','win_prob', 'loss_prob', 'result']"
   ]
  },
  {
   "cell_type": "code",
   "execution_count": 142,
   "metadata": {},
   "outputs": [],
   "source": [
    "win_lose_cal = pd.DataFrame(columns=temp_column)"
   ]
  },
  {
   "cell_type": "code",
   "execution_count": 143,
   "metadata": {},
   "outputs": [
    {
     "data": {
      "text/html": [
       "<div>\n",
       "<style scoped>\n",
       "    .dataframe tbody tr th:only-of-type {\n",
       "        vertical-align: middle;\n",
       "    }\n",
       "\n",
       "    .dataframe tbody tr th {\n",
       "        vertical-align: top;\n",
       "    }\n",
       "\n",
       "    .dataframe thead th {\n",
       "        text-align: right;\n",
       "    }\n",
       "</style>\n",
       "<table border=\"1\" class=\"dataframe\">\n",
       "  <thead>\n",
       "    <tr style=\"text-align: right;\">\n",
       "      <th></th>\n",
       "      <th>name</th>\n",
       "      <th>win_prob</th>\n",
       "      <th>loss_prob</th>\n",
       "      <th>result</th>\n",
       "    </tr>\n",
       "  </thead>\n",
       "  <tbody>\n",
       "  </tbody>\n",
       "</table>\n",
       "</div>"
      ],
      "text/plain": [
       "Empty DataFrame\n",
       "Columns: [name, win_prob, loss_prob, result]\n",
       "Index: []"
      ]
     },
     "execution_count": 143,
     "metadata": {},
     "output_type": "execute_result"
    }
   ],
   "source": [
    "win_lose_cal"
   ]
  },
  {
   "cell_type": "code",
   "execution_count": 144,
   "metadata": {},
   "outputs": [
    {
     "data": {
      "text/plain": [
       "'hyundai_5'"
      ]
     },
     "execution_count": 144,
     "metadata": {},
     "output_type": "execute_result"
    }
   ],
   "source": [
    "test = data.iloc[0][:-1]\n",
    "data.iloc[i][0]"
   ]
  },
  {
   "cell_type": "code",
   "execution_count": 145,
   "metadata": {},
   "outputs": [
    {
     "name": "stdout",
     "output_type": "stream",
     "text": [
      "0.0\n",
      "0.0\n",
      "0.0\n"
     ]
    }
   ],
   "source": [
    "# 임의의 win_prob과 loss_prob그리고 결과를 담는 dataframe 만들기.\n",
    "temp_column = ['name','win_prob', 'loss_prob', 'result']\n",
    "\n",
    "win_lose_cal = pd.DataFrame(columns=temp_column)\n",
    "\n",
    "for i in range(len(data)):\n",
    "    \n",
    "    temp_col = []\n",
    "    \n",
    "    test = data.iloc[i][2:-1]\n",
    "    \n",
    "    temp_col.append(data.iloc[i][0]) # 이름 추가\n",
    "    \n",
    "    result = 1\n",
    "    \n",
    "    for j in range(len(test)):\n",
    "        prob = norm.pdf(test[j], win_group_result.iloc[0, j+1], win_group_result.iloc[1, j+1])\n",
    "        result *= prob\n",
    "    \n",
    "    try:\n",
    "        win_prob = math.log(result)\n",
    "    except:\n",
    "        print(result)\n",
    "        win_prob = -math.inf\n",
    "        \n",
    "    temp_col.append(win_prob) # 이길 확률 추가.\n",
    "    \n",
    "    result = 1\n",
    "    \n",
    "    for j in range(len(test)):\n",
    "        prob = norm.pdf(test[j], lose_group_result.iloc[0, j+1], lose_group_result.iloc[1, j+1])\n",
    "        result *= prob\n",
    "    \n",
    "    try:\n",
    "        lose_prob = math.log(result)\n",
    "    except:\n",
    "        print(result)\n",
    "        lose_prob = -math.inf\n",
    "        \n",
    "    temp_col.append(lose_prob) # 질 확률 추가.\n",
    "    \n",
    "    # WIN/LOSE 추가\n",
    "    if win_prob > lose_prob:\n",
    "        temp_col.append(1)\n",
    "    elif win_prob < lose_prob:\n",
    "        temp_col.append(0)\n",
    "    else:\n",
    "        temp_col.append('Draw')\n",
    "        \n",
    "    \n",
    "    win_lose_cal.loc[i] = temp_col"
   ]
  },
  {
   "cell_type": "code",
   "execution_count": 146,
   "metadata": {},
   "outputs": [],
   "source": [
    "# 원래 결과값과 맞는 값\n",
    "correct_guess = data[data['W/L'] == win_lose_cal['result']]"
   ]
  },
  {
   "cell_type": "code",
   "execution_count": 147,
   "metadata": {},
   "outputs": [],
   "source": [
    "# 결과값이 틀린 값\n",
    "wrong_guess = data[data['W/L'] != win_lose_cal['result']]"
   ]
  },
  {
   "cell_type": "code",
   "execution_count": 148,
   "metadata": {},
   "outputs": [
    {
     "data": {
      "text/plain": [
       "210"
      ]
     },
     "execution_count": 148,
     "metadata": {},
     "output_type": "execute_result"
    }
   ],
   "source": [
    "# 맞는 결과의 개수\n",
    "len(correct_guess)"
   ]
  },
  {
   "cell_type": "code",
   "execution_count": 149,
   "metadata": {},
   "outputs": [
    {
     "data": {
      "text/plain": [
       "86"
      ]
     },
     "execution_count": 149,
     "metadata": {},
     "output_type": "execute_result"
    }
   ],
   "source": [
    "# 틀린 결과의 개수\n",
    "len(wrong_guess)"
   ]
  },
  {
   "cell_type": "code",
   "execution_count": 150,
   "metadata": {},
   "outputs": [
    {
     "name": "stdout",
     "output_type": "stream",
     "text": [
      "0.7094594594594594\n"
     ]
    }
   ],
   "source": [
    "accuracy = len(correct_guess) / len(data)\n",
    "print(accuracy)"
   ]
  },
  {
   "cell_type": "markdown",
   "metadata": {},
   "source": [
    "# 그룹별 추산"
   ]
  },
  {
   "cell_type": "code",
   "execution_count": 151,
   "metadata": {},
   "outputs": [],
   "source": [
    "hyundai_data = data[:37]"
   ]
  },
  {
   "cell_type": "code",
   "execution_count": 152,
   "metadata": {},
   "outputs": [],
   "source": [
    "# Win인 그룹\n",
    "win_group = hyundai_data[hyundai_data['W/L'] == 1]"
   ]
  },
  {
   "cell_type": "code",
   "execution_count": 153,
   "metadata": {},
   "outputs": [],
   "source": [
    "# Lose인 그룹\n",
    "lose_group = hyundai_data[hyundai_data['W/L'] == 0]"
   ]
  },
  {
   "cell_type": "markdown",
   "metadata": {},
   "source": [
    "### Win_group result만들기."
   ]
  },
  {
   "cell_type": "code",
   "execution_count": 154,
   "metadata": {},
   "outputs": [],
   "source": [
    "# column list로 구하기.\n",
    "columns = list(hyundai_data.columns)\n",
    "\n",
    "# 필요없는 column 삭제\n",
    "columns.remove('name')\n",
    "columns.remove('Date')\n",
    "columns.remove('W/L')"
   ]
  },
  {
   "cell_type": "code",
   "execution_count": 155,
   "metadata": {},
   "outputs": [],
   "source": [
    "# win_group_result의 결과값을 저장할 dataframe 생성.\n",
    "win_group_result = pd.DataFrame(columns=columns)"
   ]
  },
  {
   "cell_type": "code",
   "execution_count": 156,
   "metadata": {},
   "outputs": [
    {
     "data": {
      "text/html": [
       "<div>\n",
       "<style scoped>\n",
       "    .dataframe tbody tr th:only-of-type {\n",
       "        vertical-align: middle;\n",
       "    }\n",
       "\n",
       "    .dataframe tbody tr th {\n",
       "        vertical-align: top;\n",
       "    }\n",
       "\n",
       "    .dataframe thead th {\n",
       "        text-align: right;\n",
       "    }\n",
       "</style>\n",
       "<table border=\"1\" class=\"dataframe\">\n",
       "  <thead>\n",
       "    <tr style=\"text-align: right;\">\n",
       "      <th></th>\n",
       "      <th>Divedend_yield_ratio_growth</th>\n",
       "      <th>BPS_growth</th>\n",
       "      <th>PER_growth</th>\n",
       "      <th>EPS_growth</th>\n",
       "      <th>Profit_growth</th>\n",
       "      <th>Revenue_growth</th>\n",
       "    </tr>\n",
       "  </thead>\n",
       "  <tbody>\n",
       "  </tbody>\n",
       "</table>\n",
       "</div>"
      ],
      "text/plain": [
       "Empty DataFrame\n",
       "Columns: [Divedend_yield_ratio_growth, BPS_growth, PER_growth, EPS_growth, Profit_growth, Revenue_growth]\n",
       "Index: []"
      ]
     },
     "execution_count": 156,
     "metadata": {},
     "output_type": "execute_result"
    }
   ],
   "source": [
    "win_group_result"
   ]
  },
  {
   "cell_type": "code",
   "execution_count": 157,
   "metadata": {
    "scrolled": true
   },
   "outputs": [],
   "source": [
    "mean_list = []\n",
    "std_list = []\n",
    "    \n",
    "for column in columns:\n",
    "    mean_list.append(winsorize(win_group[column], 0.05).mean()) #mean 추가\n",
    "    std_list.append(winsorize(win_group[column], 0.05).std()) #std 추가"
   ]
  },
  {
   "cell_type": "code",
   "execution_count": 158,
   "metadata": {},
   "outputs": [],
   "source": [
    "# 각각 자리에 넣기.\n",
    "win_group_result.loc[0] = mean_list\n",
    "win_group_result.loc[1] = std_list"
   ]
  },
  {
   "cell_type": "code",
   "execution_count": 159,
   "metadata": {},
   "outputs": [],
   "source": [
    "# cateogry column만들기.\n",
    "win_group_result['category'] = ['mean', 'std']"
   ]
  },
  {
   "cell_type": "code",
   "execution_count": 160,
   "metadata": {},
   "outputs": [],
   "source": [
    "# column에 category만들기.\n",
    "columns.insert(0,'category')"
   ]
  },
  {
   "cell_type": "code",
   "execution_count": 161,
   "metadata": {},
   "outputs": [],
   "source": [
    "win_group_result = win_group_result[columns]"
   ]
  },
  {
   "cell_type": "code",
   "execution_count": 162,
   "metadata": {},
   "outputs": [
    {
     "data": {
      "text/html": [
       "<div>\n",
       "<style scoped>\n",
       "    .dataframe tbody tr th:only-of-type {\n",
       "        vertical-align: middle;\n",
       "    }\n",
       "\n",
       "    .dataframe tbody tr th {\n",
       "        vertical-align: top;\n",
       "    }\n",
       "\n",
       "    .dataframe thead th {\n",
       "        text-align: right;\n",
       "    }\n",
       "</style>\n",
       "<table border=\"1\" class=\"dataframe\">\n",
       "  <thead>\n",
       "    <tr style=\"text-align: right;\">\n",
       "      <th></th>\n",
       "      <th>category</th>\n",
       "      <th>Divedend_yield_ratio_growth</th>\n",
       "      <th>BPS_growth</th>\n",
       "      <th>PER_growth</th>\n",
       "      <th>EPS_growth</th>\n",
       "      <th>Profit_growth</th>\n",
       "      <th>Revenue_growth</th>\n",
       "    </tr>\n",
       "  </thead>\n",
       "  <tbody>\n",
       "    <tr>\n",
       "      <th>0</th>\n",
       "      <td>mean</td>\n",
       "      <td>-5.371314</td>\n",
       "      <td>2.815913</td>\n",
       "      <td>7.135664</td>\n",
       "      <td>-1.990464</td>\n",
       "      <td>3.350000</td>\n",
       "      <td>9.607222</td>\n",
       "    </tr>\n",
       "    <tr>\n",
       "      <th>1</th>\n",
       "      <td>std</td>\n",
       "      <td>8.388341</td>\n",
       "      <td>3.335277</td>\n",
       "      <td>6.087558</td>\n",
       "      <td>10.133475</td>\n",
       "      <td>23.029351</td>\n",
       "      <td>9.076606</td>\n",
       "    </tr>\n",
       "  </tbody>\n",
       "</table>\n",
       "</div>"
      ],
      "text/plain": [
       "  category  Divedend_yield_ratio_growth  BPS_growth  PER_growth  EPS_growth  \\\n",
       "0     mean                    -5.371314    2.815913    7.135664   -1.990464   \n",
       "1      std                     8.388341    3.335277    6.087558   10.133475   \n",
       "\n",
       "   Profit_growth  Revenue_growth  \n",
       "0       3.350000        9.607222  \n",
       "1      23.029351        9.076606  "
      ]
     },
     "execution_count": 162,
     "metadata": {},
     "output_type": "execute_result"
    }
   ],
   "source": [
    "win_group_result"
   ]
  },
  {
   "cell_type": "markdown",
   "metadata": {},
   "source": [
    "### Loss group result만들기."
   ]
  },
  {
   "cell_type": "code",
   "execution_count": 163,
   "metadata": {},
   "outputs": [],
   "source": [
    "# column list로 구하기.\n",
    "columns = list(hyundai_data.columns)\n",
    "\n",
    "# 필요없는 column 삭제\n",
    "columns.remove('name')\n",
    "columns.remove('Date')\n",
    "columns.remove('W/L')"
   ]
  },
  {
   "cell_type": "code",
   "execution_count": 164,
   "metadata": {},
   "outputs": [],
   "source": [
    "# win_group_result의 결과값을 저장할 dataframe 생성.\n",
    "lose_group_result = pd.DataFrame(columns=columns)"
   ]
  },
  {
   "cell_type": "code",
   "execution_count": 165,
   "metadata": {},
   "outputs": [
    {
     "data": {
      "text/html": [
       "<div>\n",
       "<style scoped>\n",
       "    .dataframe tbody tr th:only-of-type {\n",
       "        vertical-align: middle;\n",
       "    }\n",
       "\n",
       "    .dataframe tbody tr th {\n",
       "        vertical-align: top;\n",
       "    }\n",
       "\n",
       "    .dataframe thead th {\n",
       "        text-align: right;\n",
       "    }\n",
       "</style>\n",
       "<table border=\"1\" class=\"dataframe\">\n",
       "  <thead>\n",
       "    <tr style=\"text-align: right;\">\n",
       "      <th></th>\n",
       "      <th>Divedend_yield_ratio_growth</th>\n",
       "      <th>BPS_growth</th>\n",
       "      <th>PER_growth</th>\n",
       "      <th>EPS_growth</th>\n",
       "      <th>Profit_growth</th>\n",
       "      <th>Revenue_growth</th>\n",
       "    </tr>\n",
       "  </thead>\n",
       "  <tbody>\n",
       "  </tbody>\n",
       "</table>\n",
       "</div>"
      ],
      "text/plain": [
       "Empty DataFrame\n",
       "Columns: [Divedend_yield_ratio_growth, BPS_growth, PER_growth, EPS_growth, Profit_growth, Revenue_growth]\n",
       "Index: []"
      ]
     },
     "execution_count": 165,
     "metadata": {},
     "output_type": "execute_result"
    }
   ],
   "source": [
    "lose_group_result"
   ]
  },
  {
   "cell_type": "code",
   "execution_count": 166,
   "metadata": {
    "scrolled": true
   },
   "outputs": [],
   "source": [
    "mean_list = []\n",
    "std_list = []\n",
    "    \n",
    "for column in columns:\n",
    "    mean_list.append(winsorize(lose_group[column], 0.05).mean()) #mean 추가\n",
    "    std_list.append(winsorize(lose_group[column], 0.05).std()) #std 추가"
   ]
  },
  {
   "cell_type": "code",
   "execution_count": 167,
   "metadata": {},
   "outputs": [],
   "source": [
    "# 각각 자리에 넣기.\n",
    "lose_group_result.loc[0] = mean_list\n",
    "lose_group_result.loc[1] = std_list"
   ]
  },
  {
   "cell_type": "code",
   "execution_count": 168,
   "metadata": {},
   "outputs": [],
   "source": [
    "# cateogry column만들기.\n",
    "lose_group_result['category'] = ['mean', 'std']"
   ]
  },
  {
   "cell_type": "code",
   "execution_count": 169,
   "metadata": {},
   "outputs": [],
   "source": [
    "# column에 category만들기.\n",
    "columns.insert(0,'category')"
   ]
  },
  {
   "cell_type": "code",
   "execution_count": 170,
   "metadata": {},
   "outputs": [],
   "source": [
    "lose_group_result = lose_group_result[columns]"
   ]
  },
  {
   "cell_type": "code",
   "execution_count": 171,
   "metadata": {},
   "outputs": [
    {
     "data": {
      "text/html": [
       "<div>\n",
       "<style scoped>\n",
       "    .dataframe tbody tr th:only-of-type {\n",
       "        vertical-align: middle;\n",
       "    }\n",
       "\n",
       "    .dataframe tbody tr th {\n",
       "        vertical-align: top;\n",
       "    }\n",
       "\n",
       "    .dataframe thead th {\n",
       "        text-align: right;\n",
       "    }\n",
       "</style>\n",
       "<table border=\"1\" class=\"dataframe\">\n",
       "  <thead>\n",
       "    <tr style=\"text-align: right;\">\n",
       "      <th></th>\n",
       "      <th>category</th>\n",
       "      <th>Divedend_yield_ratio_growth</th>\n",
       "      <th>BPS_growth</th>\n",
       "      <th>PER_growth</th>\n",
       "      <th>EPS_growth</th>\n",
       "      <th>Profit_growth</th>\n",
       "      <th>Revenue_growth</th>\n",
       "    </tr>\n",
       "  </thead>\n",
       "  <tbody>\n",
       "    <tr>\n",
       "      <th>0</th>\n",
       "      <td>mean</td>\n",
       "      <td>9.437034</td>\n",
       "      <td>2.769541</td>\n",
       "      <td>-5.028377</td>\n",
       "      <td>-1.028851</td>\n",
       "      <td>-3.160000</td>\n",
       "      <td>7.032105</td>\n",
       "    </tr>\n",
       "    <tr>\n",
       "      <th>1</th>\n",
       "      <td>std</td>\n",
       "      <td>9.160737</td>\n",
       "      <td>3.481256</td>\n",
       "      <td>10.457600</td>\n",
       "      <td>9.315638</td>\n",
       "      <td>23.274264</td>\n",
       "      <td>10.044894</td>\n",
       "    </tr>\n",
       "  </tbody>\n",
       "</table>\n",
       "</div>"
      ],
      "text/plain": [
       "  category  Divedend_yield_ratio_growth  BPS_growth  PER_growth  EPS_growth  \\\n",
       "0     mean                     9.437034    2.769541   -5.028377   -1.028851   \n",
       "1      std                     9.160737    3.481256   10.457600    9.315638   \n",
       "\n",
       "   Profit_growth  Revenue_growth  \n",
       "0      -3.160000        7.032105  \n",
       "1      23.274264       10.044894  "
      ]
     },
     "execution_count": 171,
     "metadata": {},
     "output_type": "execute_result"
    }
   ],
   "source": [
    "lose_group_result"
   ]
  },
  {
   "cell_type": "code",
   "execution_count": 172,
   "metadata": {},
   "outputs": [],
   "source": [
    "temp_column = ['name','win_prob', 'loss_prob', 'result']"
   ]
  },
  {
   "cell_type": "code",
   "execution_count": 173,
   "metadata": {},
   "outputs": [],
   "source": [
    "win_lose_cal = pd.DataFrame(columns=temp_column)"
   ]
  },
  {
   "cell_type": "code",
   "execution_count": 174,
   "metadata": {},
   "outputs": [
    {
     "data": {
      "text/html": [
       "<div>\n",
       "<style scoped>\n",
       "    .dataframe tbody tr th:only-of-type {\n",
       "        vertical-align: middle;\n",
       "    }\n",
       "\n",
       "    .dataframe tbody tr th {\n",
       "        vertical-align: top;\n",
       "    }\n",
       "\n",
       "    .dataframe thead th {\n",
       "        text-align: right;\n",
       "    }\n",
       "</style>\n",
       "<table border=\"1\" class=\"dataframe\">\n",
       "  <thead>\n",
       "    <tr style=\"text-align: right;\">\n",
       "      <th></th>\n",
       "      <th>name</th>\n",
       "      <th>win_prob</th>\n",
       "      <th>loss_prob</th>\n",
       "      <th>result</th>\n",
       "    </tr>\n",
       "  </thead>\n",
       "  <tbody>\n",
       "  </tbody>\n",
       "</table>\n",
       "</div>"
      ],
      "text/plain": [
       "Empty DataFrame\n",
       "Columns: [name, win_prob, loss_prob, result]\n",
       "Index: []"
      ]
     },
     "execution_count": 174,
     "metadata": {},
     "output_type": "execute_result"
    }
   ],
   "source": [
    "win_lose_cal"
   ]
  },
  {
   "cell_type": "code",
   "execution_count": 175,
   "metadata": {},
   "outputs": [
    {
     "data": {
      "text/plain": [
       "'hhi_36'"
      ]
     },
     "execution_count": 175,
     "metadata": {},
     "output_type": "execute_result"
    }
   ],
   "source": [
    "test = data.iloc[0][:-1]\n",
    "data.iloc[i][0]"
   ]
  },
  {
   "cell_type": "code",
   "execution_count": 176,
   "metadata": {},
   "outputs": [],
   "source": [
    "# 임의의 win_prob과 loss_prob그리고 결과를 담는 dataframe 만들기.\n",
    "temp_column = ['name','win_prob', 'loss_prob', 'result']\n",
    "\n",
    "win_lose_cal = pd.DataFrame(columns=temp_column)\n",
    "\n",
    "for i in range(len(hyundai_data)):\n",
    "    \n",
    "    temp_col = []\n",
    "    \n",
    "    test = hyundai_data.iloc[i][2:-1]\n",
    "    \n",
    "    temp_col.append(hyundai_data.iloc[i][0]) # 이름 추가\n",
    "    \n",
    "    result = 1\n",
    "    \n",
    "    for j in range(len(test)):\n",
    "        prob = norm.pdf(test[j], win_group_result.iloc[0, j+1], win_group_result.iloc[1, j+1])\n",
    "        result *= prob\n",
    "    \n",
    "    try:\n",
    "        win_prob = math.log(result)\n",
    "    except:\n",
    "        print(result)\n",
    "        win_prob = -math.inf\n",
    "        \n",
    "    temp_col.append(win_prob) # 이길 확률 추가.\n",
    "    \n",
    "    result = 1\n",
    "    \n",
    "    for j in range(len(test)):\n",
    "        prob = norm.pdf(test[j], lose_group_result.iloc[0, j+1], lose_group_result.iloc[1, j+1])\n",
    "        result *= prob\n",
    "    \n",
    "    try:\n",
    "        lose_prob = math.log(result)\n",
    "    except:\n",
    "        print(result)\n",
    "        lose_prob = -math.inf\n",
    "        \n",
    "    temp_col.append(lose_prob) # 질 확률 추가.\n",
    "    \n",
    "    # WIN/LOSE 추가\n",
    "    if win_prob > lose_prob:\n",
    "        temp_col.append(1)\n",
    "    elif win_prob < lose_prob:\n",
    "        temp_col.append(0)\n",
    "    else:\n",
    "        temp_col.append('Draw')\n",
    "        \n",
    "    \n",
    "    win_lose_cal.loc[i] = temp_col"
   ]
  },
  {
   "cell_type": "code",
   "execution_count": 177,
   "metadata": {},
   "outputs": [],
   "source": [
    "# 원래 결과값과 맞는 값\n",
    "correct_guess = hyundai_data[hyundai_data['W/L'] == win_lose_cal['result']]"
   ]
  },
  {
   "cell_type": "code",
   "execution_count": 178,
   "metadata": {},
   "outputs": [],
   "source": [
    "# 결과값이 틀린 값\n",
    "wrong_guess = hyundai_data[hyundai_data['W/L'] != win_lose_cal['result']]"
   ]
  },
  {
   "cell_type": "code",
   "execution_count": 179,
   "metadata": {},
   "outputs": [
    {
     "data": {
      "text/plain": [
       "35"
      ]
     },
     "execution_count": 179,
     "metadata": {},
     "output_type": "execute_result"
    }
   ],
   "source": [
    "# 맞는 결과의 개수\n",
    "len(correct_guess)"
   ]
  },
  {
   "cell_type": "code",
   "execution_count": 180,
   "metadata": {},
   "outputs": [
    {
     "data": {
      "text/plain": [
       "2"
      ]
     },
     "execution_count": 180,
     "metadata": {},
     "output_type": "execute_result"
    }
   ],
   "source": [
    "# 틀린 결과의 개수\n",
    "len(wrong_guess)"
   ]
  },
  {
   "cell_type": "code",
   "execution_count": 181,
   "metadata": {},
   "outputs": [
    {
     "name": "stdout",
     "output_type": "stream",
     "text": [
      "0.11824324324324324\n"
     ]
    }
   ],
   "source": [
    "accuracy = len(correct_guess) / len(data)\n",
    "print(accuracy)"
   ]
  },
  {
   "cell_type": "code",
   "execution_count": null,
   "metadata": {},
   "outputs": [],
   "source": []
  }
 ],
 "metadata": {
  "kernelspec": {
   "display_name": "Python 3",
   "language": "python",
   "name": "python3"
  },
  "language_info": {
   "codemirror_mode": {
    "name": "ipython",
    "version": 3
   },
   "file_extension": ".py",
   "mimetype": "text/x-python",
   "name": "python",
   "nbconvert_exporter": "python",
   "pygments_lexer": "ipython3",
   "version": "3.7.3"
  }
 },
 "nbformat": 4,
 "nbformat_minor": 2
}
