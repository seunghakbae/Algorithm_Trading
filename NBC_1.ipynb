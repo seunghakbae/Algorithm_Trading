{
 "cells": [
  {
   "cell_type": "code",
   "execution_count": 10,
   "metadata": {},
   "outputs": [],
   "source": [
    "import pandas as pd\n",
    "import numpy as np\n",
    "import matplotlib.pyplot as plt\n",
    "import matplotlib as mpl\n",
    "import scipy as sp\n",
    "import scipy.stats\n",
    "from sklearn import datasets\n",
    "from sklearn.naive_bayes import GaussianNB\n",
    "from scipy.stats.mstats import winsorize"
   ]
  },
  {
   "cell_type": "code",
   "execution_count": 4,
   "metadata": {
    "scrolled": true
   },
   "outputs": [],
   "source": [
    "df = pd.read_csv(\"final_data.csv\")"
   ]
  },
  {
   "cell_type": "code",
   "execution_count": 5,
   "metadata": {},
   "outputs": [
    {
     "name": "stdout",
     "output_type": "stream",
     "text": [
      "208 train + 88 test\n"
     ]
    }
   ],
   "source": [
    "#train_set와 test_set 나누기(random)\n",
    "def split_train_test(data, test_ratio):\n",
    "    shuffled_indices = np.random.permutation(len(data))\n",
    "    test_set_size = int(len(df) * test_ratio)\n",
    "    test_indices = shuffled_indices[:test_set_size]\n",
    "    train_indices = shuffled_indices[test_set_size:]\n",
    "\n",
    "    return df.iloc[train_indices], df.iloc[test_indices]\n",
    "\n",
    "\n",
    "train_set, test_set = split_train_test(df, 0.3)\n",
    "print(len(train_set), \"train +\", len(test_set), \"test\")"
   ]
  },
  {
   "cell_type": "code",
   "execution_count": 6,
   "metadata": {},
   "outputs": [],
   "source": [
    "train_set.to_csv(\"train_set8.csv\")\n",
    "test_set.to_csv(\"test_set8.csv\")"
   ]
  },
  {
   "cell_type": "code",
   "execution_count": 7,
   "metadata": {
    "scrolled": true
   },
   "outputs": [
    {
     "data": {
      "text/html": [
       "<div>\n",
       "<style scoped>\n",
       "    .dataframe tbody tr th:only-of-type {\n",
       "        vertical-align: middle;\n",
       "    }\n",
       "\n",
       "    .dataframe tbody tr th {\n",
       "        vertical-align: top;\n",
       "    }\n",
       "\n",
       "    .dataframe thead th {\n",
       "        text-align: right;\n",
       "    }\n",
       "</style>\n",
       "<table border=\"1\" class=\"dataframe\">\n",
       "  <thead>\n",
       "    <tr style=\"text-align: right;\">\n",
       "      <th></th>\n",
       "      <th>name</th>\n",
       "      <th>Date</th>\n",
       "      <th>Divedend_yield_ratio_growth</th>\n",
       "      <th>BPS_growth</th>\n",
       "      <th>PER_growth</th>\n",
       "      <th>EPS_growth</th>\n",
       "      <th>Profit_growth</th>\n",
       "      <th>Revenue_growth</th>\n",
       "      <th>W/L</th>\n",
       "    </tr>\n",
       "  </thead>\n",
       "  <tbody>\n",
       "    <tr>\n",
       "      <th>74</th>\n",
       "      <td>lg_0</td>\n",
       "      <td>2019-09-30 0:00</td>\n",
       "      <td>10.457516</td>\n",
       "      <td>1.918828</td>\n",
       "      <td>4.850746</td>\n",
       "      <td>-25.917070</td>\n",
       "      <td>-41.09</td>\n",
       "      <td>-0.47</td>\n",
       "      <td>0</td>\n",
       "    </tr>\n",
       "    <tr>\n",
       "      <th>32</th>\n",
       "      <td>hyundai_32</td>\n",
       "      <td>2011-09-30 0:00</td>\n",
       "      <td>11.666667</td>\n",
       "      <td>13.740255</td>\n",
       "      <td>-27.843987</td>\n",
       "      <td>14.995860</td>\n",
       "      <td>32.41</td>\n",
       "      <td>21.01</td>\n",
       "      <td>0</td>\n",
       "    </tr>\n",
       "    <tr>\n",
       "      <th>64</th>\n",
       "      <td>gs_27</td>\n",
       "      <td>2012-12-28 0:00</td>\n",
       "      <td>2.976190</td>\n",
       "      <td>2.321282</td>\n",
       "      <td>-11.459075</td>\n",
       "      <td>7.897409</td>\n",
       "      <td>29.32</td>\n",
       "      <td>13.17</td>\n",
       "      <td>0</td>\n",
       "    </tr>\n",
       "    <tr>\n",
       "      <th>110</th>\n",
       "      <td>lg_36</td>\n",
       "      <td>2010-09-30 0:00</td>\n",
       "      <td>-7.317073</td>\n",
       "      <td>9.444113</td>\n",
       "      <td>2.557856</td>\n",
       "      <td>24.639709</td>\n",
       "      <td>-39.52</td>\n",
       "      <td>56.15</td>\n",
       "      <td>1</td>\n",
       "    </tr>\n",
       "    <tr>\n",
       "      <th>9</th>\n",
       "      <td>hyundai_9</td>\n",
       "      <td>2017-06-30 0:00</td>\n",
       "      <td>-2.590674</td>\n",
       "      <td>3.717923</td>\n",
       "      <td>10.869565</td>\n",
       "      <td>-5.954333</td>\n",
       "      <td>-13.44</td>\n",
       "      <td>0.78</td>\n",
       "      <td>1</td>\n",
       "    </tr>\n",
       "    <tr>\n",
       "      <th>...</th>\n",
       "      <td>...</td>\n",
       "      <td>...</td>\n",
       "      <td>...</td>\n",
       "      <td>...</td>\n",
       "      <td>...</td>\n",
       "      <td>...</td>\n",
       "      <td>...</td>\n",
       "      <td>...</td>\n",
       "      <td>...</td>\n",
       "    </tr>\n",
       "    <tr>\n",
       "      <th>198</th>\n",
       "      <td>samsung_13</td>\n",
       "      <td>2016-06-30 0:00</td>\n",
       "      <td>4.800000</td>\n",
       "      <td>-4.398554</td>\n",
       "      <td>12.603306</td>\n",
       "      <td>-19.269324</td>\n",
       "      <td>-5.75</td>\n",
       "      <td>3.48</td>\n",
       "      <td>1</td>\n",
       "    </tr>\n",
       "    <tr>\n",
       "      <th>149</th>\n",
       "      <td>posco_1</td>\n",
       "      <td>2019-06-28 0:00</td>\n",
       "      <td>21.846154</td>\n",
       "      <td>-2.792129</td>\n",
       "      <td>49.003021</td>\n",
       "      <td>-75.251453</td>\n",
       "      <td>10.79</td>\n",
       "      <td>7.38</td>\n",
       "      <td>0</td>\n",
       "    </tr>\n",
       "    <tr>\n",
       "      <th>210</th>\n",
       "      <td>samsung_25</td>\n",
       "      <td>2013-06-28 0:00</td>\n",
       "      <td>22.500000</td>\n",
       "      <td>0.294490</td>\n",
       "      <td>-25.127681</td>\n",
       "      <td>8.654484</td>\n",
       "      <td>77.39</td>\n",
       "      <td>16.44</td>\n",
       "      <td>0</td>\n",
       "    </tr>\n",
       "    <tr>\n",
       "      <th>17</th>\n",
       "      <td>hyundai_17</td>\n",
       "      <td>2015-06-30 0:00</td>\n",
       "      <td>39.634146</td>\n",
       "      <td>2.066650</td>\n",
       "      <td>0.787402</td>\n",
       "      <td>-14.788424</td>\n",
       "      <td>7.47</td>\n",
       "      <td>10.79</td>\n",
       "      <td>0</td>\n",
       "    </tr>\n",
       "    <tr>\n",
       "      <th>26</th>\n",
       "      <td>hyundai_26</td>\n",
       "      <td>2013-03-29 0:00</td>\n",
       "      <td>0.000000</td>\n",
       "      <td>0.000000</td>\n",
       "      <td>0.134590</td>\n",
       "      <td>0.000000</td>\n",
       "      <td>-3.37</td>\n",
       "      <td>8.40</td>\n",
       "      <td>1</td>\n",
       "    </tr>\n",
       "  </tbody>\n",
       "</table>\n",
       "<p>208 rows × 9 columns</p>\n",
       "</div>"
      ],
      "text/plain": [
       "           name             Date  Divedend_yield_ratio_growth  BPS_growth  \\\n",
       "74         lg_0  2019-09-30 0:00                    10.457516    1.918828   \n",
       "32   hyundai_32  2011-09-30 0:00                    11.666667   13.740255   \n",
       "64        gs_27  2012-12-28 0:00                     2.976190    2.321282   \n",
       "110       lg_36  2010-09-30 0:00                    -7.317073    9.444113   \n",
       "9     hyundai_9  2017-06-30 0:00                    -2.590674    3.717923   \n",
       "..          ...              ...                          ...         ...   \n",
       "198  samsung_13  2016-06-30 0:00                     4.800000   -4.398554   \n",
       "149     posco_1  2019-06-28 0:00                    21.846154   -2.792129   \n",
       "210  samsung_25  2013-06-28 0:00                    22.500000    0.294490   \n",
       "17   hyundai_17  2015-06-30 0:00                    39.634146    2.066650   \n",
       "26   hyundai_26  2013-03-29 0:00                     0.000000    0.000000   \n",
       "\n",
       "     PER_growth  EPS_growth  Profit_growth  Revenue_growth  W/L  \n",
       "74     4.850746  -25.917070         -41.09           -0.47    0  \n",
       "32   -27.843987   14.995860          32.41           21.01    0  \n",
       "64   -11.459075    7.897409          29.32           13.17    0  \n",
       "110    2.557856   24.639709         -39.52           56.15    1  \n",
       "9     10.869565   -5.954333         -13.44            0.78    1  \n",
       "..          ...         ...            ...             ...  ...  \n",
       "198   12.603306  -19.269324          -5.75            3.48    1  \n",
       "149   49.003021  -75.251453          10.79            7.38    0  \n",
       "210  -25.127681    8.654484          77.39           16.44    0  \n",
       "17     0.787402  -14.788424           7.47           10.79    0  \n",
       "26     0.134590    0.000000          -3.37            8.40    1  \n",
       "\n",
       "[208 rows x 9 columns]"
      ]
     },
     "execution_count": 7,
     "metadata": {},
     "output_type": "execute_result"
    }
   ],
   "source": [
    "train_set"
   ]
  },
  {
   "cell_type": "code",
   "execution_count": 8,
   "metadata": {
    "scrolled": false
   },
   "outputs": [
    {
     "data": {
      "text/plain": [
       "Text(0.5, 1.0, 'Unconditional correlation betwen X1 and Y')"
      ]
     },
     "execution_count": 8,
     "metadata": {},
     "output_type": "execute_result"
    },
    {
     "data": {
      "image/png": "[encoded data removed]",
      "text/plain": [
       "<Figure size 432x288 with 1 Axes>"
      ]
     },
     "metadata": {
      "needs_background": "light"
     },
     "output_type": "display_data"
    }
   ],
   "source": [
    "plt.figure()\n",
    "\n",
    "#plt.subplot(121)\n",
    "plt.scatter(df[\"Divedend_yield_ratio_growth\"], df[\"W/L\"])\n",
    "plt.xlabel(\"X1\")\n",
    "plt.ylabel(\"Y\")\n",
    "plt.xlim(-100, 100)\n",
    "plt.ylim(-2, 2)\n",
    "plt.title(\"Unconditional correlation betwen X1 and Y\")"
   ]
  },
  {
   "cell_type": "code",
   "execution_count": 12,
   "metadata": {
    "scrolled": true
   },
   "outputs": [],
   "source": [
    "#features_treain, labels_train\n",
    "features_train = winsorize(train_set.iloc[:, 2:8], 0.05)\n",
    "labels_train = winsorize(train_set.iloc[:, 8:], 0.05)"
   ]
  },
  {
   "cell_type": "code",
   "execution_count": 14,
   "metadata": {},
   "outputs": [],
   "source": [
    "#featrues_test\n",
    "features_test = winsorize(test_set.iloc[:, 2:8], 0.05)\n",
    "labels_test = winsorize(test_set.iloc[:, 8:], 0.05)"
   ]
  },
  {
   "cell_type": "code",
   "execution_count": 15,
   "metadata": {
    "scrolled": true
   },
   "outputs": [
    {
     "name": "stderr",
     "output_type": "stream",
     "text": [
      "C:\\Users\\ASUS\\Anaconda3\\lib\\site-packages\\sklearn\\utils\\validation.py:724: DataConversionWarning: A column-vector y was passed when a 1d array was expected. Please change the shape of y to (n_samples, ), for example using ravel().\n",
      "  y = column_or_1d(y, warn=True)\n"
     ]
    },
    {
     "data": {
      "text/plain": [
       "GaussianNB(priors=None, var_smoothing=1e-09)"
      ]
     },
     "execution_count": 15,
     "metadata": {},
     "output_type": "execute_result"
    }
   ],
   "source": [
    "#Classifier 선언\n",
    "clf = GaussianNB()\n",
    "#fit 함수가 training sample을 이용한 학습을 진행하는 과정\n",
    "clf.fit(features_train, labels_train)\n"
   ]
  },
  {
   "cell_type": "code",
   "execution_count": 16,
   "metadata": {
    "scrolled": true
   },
   "outputs": [
    {
     "data": {
      "text/plain": [
       "array([[0.05982566, 0.94017434],\n",
       "       [0.32590095, 0.67409905],\n",
       "       [0.20227846, 0.79772154],\n",
       "       [0.66544267, 0.33455733],\n",
       "       [0.12582196, 0.87417804],\n",
       "       [0.31653323, 0.68346677],\n",
       "       [0.70163525, 0.29836475],\n",
       "       [0.99194913, 0.00805087],\n",
       "       [0.98649837, 0.01350163],\n",
       "       [0.50241055, 0.49758945],\n",
       "       [0.24539253, 0.75460747],\n",
       "       [0.95115017, 0.04884983],\n",
       "       [0.7820015 , 0.2179985 ],\n",
       "       [0.95904377, 0.04095623],\n",
       "       [0.81213957, 0.18786043],\n",
       "       [0.47980959, 0.52019041],\n",
       "       [0.4491436 , 0.5508564 ],\n",
       "       [0.88015864, 0.11984136],\n",
       "       [0.90738425, 0.09261575],\n",
       "       [0.59038161, 0.40961839],\n",
       "       [0.98169406, 0.01830594],\n",
       "       [0.71047541, 0.28952459],\n",
       "       [0.30605677, 0.69394323],\n",
       "       [0.05641446, 0.94358554],\n",
       "       [0.5744512 , 0.4255488 ],\n",
       "       [0.1054928 , 0.8945072 ],\n",
       "       [0.94738551, 0.05261449],\n",
       "       [0.57713945, 0.42286055],\n",
       "       [0.3077254 , 0.6922746 ],\n",
       "       [0.32279597, 0.67720403],\n",
       "       [0.24597252, 0.75402748],\n",
       "       [0.69148275, 0.30851725],\n",
       "       [0.38363508, 0.61636492],\n",
       "       [0.54287701, 0.45712299],\n",
       "       [0.28741041, 0.71258959],\n",
       "       [0.06911928, 0.93088072],\n",
       "       [0.47225386, 0.52774614],\n",
       "       [0.05389297, 0.94610703],\n",
       "       [0.13514093, 0.86485907],\n",
       "       [0.24750096, 0.75249904],\n",
       "       [0.2368257 , 0.7631743 ],\n",
       "       [0.0732659 , 0.9267341 ],\n",
       "       [0.17765545, 0.82234455],\n",
       "       [0.97957764, 0.02042236],\n",
       "       [0.0900773 , 0.9099227 ],\n",
       "       [0.16917711, 0.83082289],\n",
       "       [0.98105992, 0.01894008],\n",
       "       [0.89468514, 0.10531486],\n",
       "       [0.17472695, 0.82527305],\n",
       "       [0.21714333, 0.78285667],\n",
       "       [0.30646674, 0.69353326],\n",
       "       [0.86790922, 0.13209078],\n",
       "       [0.61511457, 0.38488543],\n",
       "       [0.2543821 , 0.7456179 ],\n",
       "       [0.04417122, 0.95582878],\n",
       "       [0.46496646, 0.53503354],\n",
       "       [0.03295382, 0.96704618],\n",
       "       [0.12138025, 0.87861975],\n",
       "       [0.1409334 , 0.8590666 ],\n",
       "       [0.98211603, 0.01788397],\n",
       "       [0.08579285, 0.91420715],\n",
       "       [0.24091037, 0.75908963],\n",
       "       [0.88584155, 0.11415845],\n",
       "       [0.18017429, 0.81982571],\n",
       "       [0.14980056, 0.85019944],\n",
       "       [0.89953998, 0.10046002],\n",
       "       [0.54800718, 0.45199282],\n",
       "       [0.31500311, 0.68499689],\n",
       "       [0.72585762, 0.27414238],\n",
       "       [0.1651855 , 0.8348145 ],\n",
       "       [0.16516037, 0.83483963],\n",
       "       [0.28680148, 0.71319852],\n",
       "       [0.44417659, 0.55582341],\n",
       "       [0.41734648, 0.58265352],\n",
       "       [0.6778881 , 0.3221119 ],\n",
       "       [0.29830122, 0.70169878],\n",
       "       [0.27055306, 0.72944694],\n",
       "       [0.0866494 , 0.9133506 ],\n",
       "       [0.6003982 , 0.3996018 ],\n",
       "       [0.5176823 , 0.4823177 ],\n",
       "       [0.15659934, 0.84340066],\n",
       "       [0.62875953, 0.37124047],\n",
       "       [0.09270451, 0.90729549],\n",
       "       [0.36607629, 0.63392371],\n",
       "       [0.97076   , 0.02924   ],\n",
       "       [0.23736973, 0.76263027],\n",
       "       [0.45802707, 0.54197293],\n",
       "       [0.31175805, 0.68824195]])"
      ]
     },
     "execution_count": 16,
     "metadata": {},
     "output_type": "execute_result"
    }
   ],
   "source": [
    "clf.predict_proba(features_test)   #w/Lclass prob [W,L]"
   ]
  },
  {
   "cell_type": "code",
   "execution_count": 17,
   "metadata": {
    "scrolled": true
   },
   "outputs": [
    {
     "data": {
      "text/plain": [
       "array([[-2.8163207 , -0.06168995],\n",
       "       [-1.12116179, -0.39437822],\n",
       "       [-1.59811   , -0.22599569],\n",
       "       [-0.4073028 , -1.09494701],\n",
       "       [-2.07288739, -0.13447122],\n",
       "       [-1.15032705, -0.38057724],\n",
       "       [-0.3543416 , -1.20943854],\n",
       "       [-0.00808345, -4.82197525],\n",
       "       [-0.01359361, -4.30494484],\n",
       "       [-0.68833766, -0.69797995],\n",
       "       [-1.40489619, -0.28155757],\n",
       "       [-0.05008332, -3.01900434],\n",
       "       [-0.24589863, -1.52326708],\n",
       "       [-0.04181856, -3.19525135],\n",
       "       [-0.20808308, -1.67205596],\n",
       "       [-0.73436594, -0.65356036],\n",
       "       [-0.80041263, -0.59628111],\n",
       "       [-0.12765311, -2.12158643],\n",
       "       [-0.09718927, -2.37929603],\n",
       "       [-0.52698615, -0.89252932],\n",
       "       [-0.01847556, -4.00052983],\n",
       "       [-0.34182094, -1.23951506],\n",
       "       [-1.18398467, -0.36536513],\n",
       "       [-2.8750298 , -0.05806825],\n",
       "       [-0.55434014, -0.85437564],\n",
       "       [-2.2491126 , -0.11148232],\n",
       "       [-0.05404918, -2.94476374],\n",
       "       [-0.54967136, -0.86071283],\n",
       "       [-1.17854744, -0.36777259],\n",
       "       [-1.13073482, -0.38978268],\n",
       "       [-1.40253545, -0.28232647],\n",
       "       [-0.36891708, -1.17597751],\n",
       "       [-0.95806348, -0.48391609],\n",
       "       [-0.61087249, -0.78280279],\n",
       "       [-1.24684409, -0.33884963],\n",
       "       [-2.67192162, -0.07162413],\n",
       "       [-0.75023859, -0.63913991],\n",
       "       [-2.92075521, -0.05539958],\n",
       "       [-2.00143715, -0.14518871],\n",
       "       [-1.39634083, -0.28435555],\n",
       "       [-1.44043087, -0.27026883],\n",
       "       [-2.61366005, -0.07608859],\n",
       "       [-1.72790929, -0.19559581],\n",
       "       [-0.02063378, -3.89112469],\n",
       "       [-2.4070871 , -0.09439563],\n",
       "       [-1.77680913, -0.18533863],\n",
       "       [-0.01912174, -3.96647482],\n",
       "       [-0.11128342, -2.25080074],\n",
       "       [-1.74453083, -0.19204097],\n",
       "       [-1.52719763, -0.24480565],\n",
       "       [-1.18264604, -0.36595608],\n",
       "       [-0.14166815, -2.02426589],\n",
       "       [-0.48594674, -0.95480957],\n",
       "       [-1.3689178 , -0.29354201],\n",
       "       [-3.11968178, -0.04517648],\n",
       "       [-0.76579001, -0.62542584],\n",
       "       [-3.41264822, -0.03350902],\n",
       "       [-2.10882713, -0.12940306],\n",
       "       [-1.95946788, -0.15190882],\n",
       "       [-0.01804582, -4.02385064],\n",
       "       [-2.45581966, -0.08969809],\n",
       "       [-1.42333032, -0.27563542],\n",
       "       [-0.12121718, -2.17016792],\n",
       "       [-1.71383064, -0.1986635 ],\n",
       "       [-1.89845045, -0.16228433],\n",
       "       [-0.10587178, -2.29799542],\n",
       "       [-0.6014669 , -0.79408898],\n",
       "       [-1.15517278, -0.37834097],\n",
       "       [-0.3204014 , -1.29410768],\n",
       "       [-1.80068619, -0.18054574],\n",
       "       [-1.80083832, -0.18051564],\n",
       "       [-1.248965  , -0.33799547],\n",
       "       [-0.81153307, -0.58730464],\n",
       "       [-0.87383851, -0.54016258],\n",
       "       [-0.38877305, -1.13285627],\n",
       "       [-1.20965151, -0.35425105],\n",
       "       [-1.30728705, -0.31546865],\n",
       "       [-2.44588521, -0.09063546],\n",
       "       [-0.51016217, -0.91728674],\n",
       "       [-0.65839354, -0.72915226],\n",
       "       [-1.8540647 , -0.17031316],\n",
       "       [-0.46400641, -0.99090525],\n",
       "       [-2.37833816, -0.09728709],\n",
       "       [-1.00491353, -0.45582666],\n",
       "       [-0.02967601, -3.53221753],\n",
       "       [-1.4381363 , -0.27098194],\n",
       "       [-0.780827  , -0.61253922],\n",
       "       [-1.16552787, -0.37361483]])"
      ]
     },
     "execution_count": 17,
     "metadata": {},
     "output_type": "execute_result"
    }
   ],
   "source": [
    "clf.predict_log_proba(features_test)  #predict prob 로그값 [winner, loser]"
   ]
  },
  {
   "cell_type": "code",
   "execution_count": 18,
   "metadata": {
    "scrolled": true
   },
   "outputs": [
    {
     "data": {
      "text/plain": [
       "array([1, 1, 1, 0, 1, 1, 0, 0, 0, 0, 1, 0, 0, 0, 0, 1, 1, 0, 0, 0, 0, 0,\n",
       "       1, 1, 0, 1, 0, 0, 1, 1, 1, 0, 1, 0, 1, 1, 1, 1, 1, 1, 1, 1, 1, 0,\n",
       "       1, 1, 0, 0, 1, 1, 1, 0, 0, 1, 1, 1, 1, 1, 1, 0, 1, 1, 0, 1, 1, 0,\n",
       "       0, 1, 0, 1, 1, 1, 1, 1, 0, 1, 1, 1, 0, 0, 1, 0, 1, 1, 0, 1, 1, 1],\n",
       "      dtype=int64)"
      ]
     },
     "execution_count": 18,
     "metadata": {},
     "output_type": "execute_result"
    }
   ],
   "source": [
    "predict_class = clf.predict(features_test)  \n",
    "predict_class"
   ]
  },
  {
   "cell_type": "code",
   "execution_count": 19,
   "metadata": {},
   "outputs": [
    {
     "name": "stdout",
     "output_type": "stream",
     "text": [
      "score using accuracy:  0.7045454545454546\n"
     ]
    }
   ],
   "source": [
    "#Accuracy test\n",
    "#방법 1\n",
    "from sklearn.metrics import accuracy_score\n",
    "pred = clf.predict(features_test)    \n",
    "accuracy = accuracy_score(pred, labels_test)    \n",
    "print (\"score using accuracy: \", accuracy)"
   ]
  },
  {
   "cell_type": "code",
   "execution_count": 20,
   "metadata": {},
   "outputs": [
    {
     "name": "stdout",
     "output_type": "stream",
     "text": [
      "score function(default:accuracy):  0.7045454545454546\n"
     ]
    }
   ],
   "source": [
    "#방법 2\n",
    "print (\"score function(default:accuracy): \", clf.score(features_test, labels_test) )\n",
    "#classification에서 score 함수는 accuracy 방법을 사용하기에 방법 1, 방법 2의 값은 같음"
   ]
  },
  {
   "cell_type": "code",
   "execution_count": null,
   "metadata": {},
   "outputs": [],
   "source": [
    "#Attributes\n",
    "\n",
    "#class_prior_\tarray, shape = [n_classes]\tprobability of each class.\n",
    "#theta_\tarray, shape = [n_classes, n_features]\tmean of each feature per class\n",
    "#sigma_\tarray, shape = [n_classes, n_features]\tvariance of each feature per class\n",
    "#Methods\n",
    "\n",
    "#fit(X, y)\tFit Gaussian Naive Bayes according to X, y\n",
    "#get_params([deep])\tGet parameters for the estimator\n",
    "#predict(X)\tPerform classification on an array of test vectors X.\n",
    "#predict_log_proba(X)\tReturn log-probability estimates for the test vector X.\n",
    "#predict_proba(X)\tReturn probability estimates for the test vector X.\n",
    "#score(X, y)\tReturns the mean accuracy on the given test data and labels.\n",
    "#set_params(**params)\tSet the parameters of the estimator."
   ]
  }
 ],
 "metadata": {
  "kernelspec": {
   "display_name": "Python 3",
   "language": "python",
   "name": "python3"
  },
  "language_info": {
   "codemirror_mode": {
    "name": "ipython",
    "version": 3
   },
   "file_extension": ".py",
   "mimetype": "text/x-python",
   "name": "python",
   "nbconvert_exporter": "python",
   "pygments_lexer": "ipython3",
   "version": "3.7.3"
  }
 },
 "nbformat": 4,
 "nbformat_minor": 2
}
