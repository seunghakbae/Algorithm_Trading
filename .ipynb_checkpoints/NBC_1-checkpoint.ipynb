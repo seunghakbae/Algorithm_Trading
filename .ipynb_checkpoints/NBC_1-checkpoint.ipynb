{
 "cells": [
  {
   "cell_type": "code",
   "execution_count": 1,
   "metadata": {},
   "outputs": [],
   "source": [
    "import pandas as pd\n",
    "import numpy as np\n",
    "import matplotlib.pyplot as plt\n",
    "import matplotlib as mpl\n",
    "import scipy as sp\n",
    "import scipy.stats\n",
    "from sklearn import datasets\n",
    "from sklearn.naive_bayes import GaussianNB\n",
    "from scipy.stats.mstats import winsorize"
   ]
  },
  {
   "cell_type": "code",
   "execution_count": 2,
   "metadata": {
    "scrolled": true
   },
   "outputs": [],
   "source": [
    "df = pd.read_csv(\"final_data.csv\")"
   ]
  },
  {
   "cell_type": "code",
   "execution_count": 17,
   "metadata": {},
   "outputs": [],
   "source": [
    "# 올해만 추출\n",
    "this_year = df.query('Date == \"2019-06-28 0:00\" | Date == \"2019-09-30 0:00\" | Date == \"2019-03-29 0:00\"')"
   ]
  },
  {
   "cell_type": "code",
   "execution_count": 36,
   "metadata": {},
   "outputs": [],
   "source": [
    "# 올해만 뺀다. \n",
    "df.drop(this_year.isin(df).index, inplace=True)"
   ]
  },
  {
   "cell_type": "code",
   "execution_count": 38,
   "metadata": {},
   "outputs": [],
   "source": [
    "# df는 train_set에 test_set에는 올해의 데이터를 넣는다. \n",
    "train_set = df\n",
    "test_set = this_year"
   ]
  },
  {
   "cell_type": "code",
   "execution_count": 5,
   "metadata": {},
   "outputs": [
    {
     "name": "stdout",
     "output_type": "stream",
     "text": [
      "208 train + 88 test\n"
     ]
    }
   ],
   "source": [
    "#train_set와 test_set 나누기(random)\n",
    "def split_train_test(data, test_ratio):\n",
    "    shuffled_indices = np.random.permutation(len(data))\n",
    "    test_set_size = int(len(df) * test_ratio)\n",
    "    test_indices = shuffled_indices[:test_set_size]\n",
    "    train_indices = shuffled_indices[test_set_size:]\n",
    "\n",
    "    return df.iloc[train_indices], df.iloc[test_indices]\n",
    "\n",
    "\n",
    "train_set, test_set = split_train_test(df, 0.3)\n",
    "print(len(train_set), \"train +\", len(test_set), \"test\")"
   ]
  },
  {
   "cell_type": "code",
   "execution_count": 6,
   "metadata": {},
   "outputs": [],
   "source": [
    "train_set.to_csv(\"train_set8.csv\")\n",
    "test_set.to_csv(\"test_set8.csv\")"
   ]
  },
  {
   "cell_type": "code",
   "execution_count": 39,
   "metadata": {
    "scrolled": true
   },
   "outputs": [
    {
     "data": {
      "text/html": [
       "<div>\n",
       "<style scoped>\n",
       "    .dataframe tbody tr th:only-of-type {\n",
       "        vertical-align: middle;\n",
       "    }\n",
       "\n",
       "    .dataframe tbody tr th {\n",
       "        vertical-align: top;\n",
       "    }\n",
       "\n",
       "    .dataframe thead th {\n",
       "        text-align: right;\n",
       "    }\n",
       "</style>\n",
       "<table border=\"1\" class=\"dataframe\">\n",
       "  <thead>\n",
       "    <tr style=\"text-align: right;\">\n",
       "      <th></th>\n",
       "      <th>name</th>\n",
       "      <th>Date</th>\n",
       "      <th>Divedend_yield_ratio_growth</th>\n",
       "      <th>BPS_growth</th>\n",
       "      <th>PER_growth</th>\n",
       "      <th>EPS_growth</th>\n",
       "      <th>Profit_growth</th>\n",
       "      <th>Revenue_growth</th>\n",
       "      <th>W/L</th>\n",
       "    </tr>\n",
       "  </thead>\n",
       "  <tbody>\n",
       "    <tr>\n",
       "      <th>3</th>\n",
       "      <td>hyundai_3</td>\n",
       "      <td>2018-12-28 0:00</td>\n",
       "      <td>11.061947</td>\n",
       "      <td>0.069947</td>\n",
       "      <td>-7.549963</td>\n",
       "      <td>-4.404573</td>\n",
       "      <td>-34.26</td>\n",
       "      <td>1.01</td>\n",
       "      <td>0</td>\n",
       "    </tr>\n",
       "    <tr>\n",
       "      <th>4</th>\n",
       "      <td>hyundai_4</td>\n",
       "      <td>2018-09-28 0:00</td>\n",
       "      <td>-6.965174</td>\n",
       "      <td>1.086317</td>\n",
       "      <td>7.639367</td>\n",
       "      <td>-25.801486</td>\n",
       "      <td>-13.95</td>\n",
       "      <td>4.15</td>\n",
       "      <td>1</td>\n",
       "    </tr>\n",
       "    <tr>\n",
       "      <th>5</th>\n",
       "      <td>hyundai_5</td>\n",
       "      <td>2018-06-29 0:00</td>\n",
       "      <td>0.465116</td>\n",
       "      <td>-0.368131</td>\n",
       "      <td>25.633383</td>\n",
       "      <td>-16.996595</td>\n",
       "      <td>-38.17</td>\n",
       "      <td>-3.60</td>\n",
       "      <td>0</td>\n",
       "    </tr>\n",
       "    <tr>\n",
       "      <th>6</th>\n",
       "      <td>hyundai_6</td>\n",
       "      <td>2018-03-30 0:00</td>\n",
       "      <td>6.074766</td>\n",
       "      <td>0.000000</td>\n",
       "      <td>-6.913828</td>\n",
       "      <td>0.000000</td>\n",
       "      <td>-31.33</td>\n",
       "      <td>7.97</td>\n",
       "      <td>0</td>\n",
       "    </tr>\n",
       "    <tr>\n",
       "      <th>7</th>\n",
       "      <td>hyundai_7</td>\n",
       "      <td>2017-12-28 0:00</td>\n",
       "      <td>-4.975124</td>\n",
       "      <td>1.052652</td>\n",
       "      <td>17.994377</td>\n",
       "      <td>-16.558115</td>\n",
       "      <td>-31.33</td>\n",
       "      <td>7.97</td>\n",
       "      <td>1</td>\n",
       "    </tr>\n",
       "    <tr>\n",
       "      <th>...</th>\n",
       "      <td>...</td>\n",
       "      <td>...</td>\n",
       "      <td>...</td>\n",
       "      <td>...</td>\n",
       "      <td>...</td>\n",
       "      <td>...</td>\n",
       "      <td>...</td>\n",
       "      <td>...</td>\n",
       "      <td>...</td>\n",
       "    </tr>\n",
       "    <tr>\n",
       "      <th>291</th>\n",
       "      <td>hhi_32</td>\n",
       "      <td>2011-09-30 0:00</td>\n",
       "      <td>17.482517</td>\n",
       "      <td>8.516521</td>\n",
       "      <td>-27.400000</td>\n",
       "      <td>8.694227</td>\n",
       "      <td>-26.24</td>\n",
       "      <td>6.39</td>\n",
       "      <td>0</td>\n",
       "    </tr>\n",
       "    <tr>\n",
       "      <th>292</th>\n",
       "      <td>hhi_33</td>\n",
       "      <td>2011-06-30 0:00</td>\n",
       "      <td>18.644068</td>\n",
       "      <td>2.343066</td>\n",
       "      <td>-6.593407</td>\n",
       "      <td>4.813567</td>\n",
       "      <td>20.57</td>\n",
       "      <td>18.46</td>\n",
       "      <td>0</td>\n",
       "    </tr>\n",
       "    <tr>\n",
       "      <th>293</th>\n",
       "      <td>hhi_34</td>\n",
       "      <td>2011-03-31 0:00</td>\n",
       "      <td>-3.125000</td>\n",
       "      <td>0.000000</td>\n",
       "      <td>2.798233</td>\n",
       "      <td>0.000000</td>\n",
       "      <td>22.45</td>\n",
       "      <td>9.88</td>\n",
       "      <td>1</td>\n",
       "    </tr>\n",
       "    <tr>\n",
       "      <th>294</th>\n",
       "      <td>hhi_35</td>\n",
       "      <td>2010-12-30 0:00</td>\n",
       "      <td>-10.101010</td>\n",
       "      <td>3.773967</td>\n",
       "      <td>4.848485</td>\n",
       "      <td>2.482947</td>\n",
       "      <td>22.45</td>\n",
       "      <td>9.88</td>\n",
       "      <td>1</td>\n",
       "    </tr>\n",
       "    <tr>\n",
       "      <th>295</th>\n",
       "      <td>hhi_36</td>\n",
       "      <td>2010-09-30 0:00</td>\n",
       "      <td>-5.504587</td>\n",
       "      <td>4.463924</td>\n",
       "      <td>-35.350318</td>\n",
       "      <td>31.878274</td>\n",
       "      <td>39.37</td>\n",
       "      <td>16.22</td>\n",
       "      <td>1</td>\n",
       "    </tr>\n",
       "  </tbody>\n",
       "</table>\n",
       "<p>272 rows × 9 columns</p>\n",
       "</div>"
      ],
      "text/plain": [
       "          name             Date  Divedend_yield_ratio_growth  BPS_growth  \\\n",
       "3    hyundai_3  2018-12-28 0:00                    11.061947    0.069947   \n",
       "4    hyundai_4  2018-09-28 0:00                    -6.965174    1.086317   \n",
       "5    hyundai_5  2018-06-29 0:00                     0.465116   -0.368131   \n",
       "6    hyundai_6  2018-03-30 0:00                     6.074766    0.000000   \n",
       "7    hyundai_7  2017-12-28 0:00                    -4.975124    1.052652   \n",
       "..         ...              ...                          ...         ...   \n",
       "291     hhi_32  2011-09-30 0:00                    17.482517    8.516521   \n",
       "292     hhi_33  2011-06-30 0:00                    18.644068    2.343066   \n",
       "293     hhi_34  2011-03-31 0:00                    -3.125000    0.000000   \n",
       "294     hhi_35  2010-12-30 0:00                   -10.101010    3.773967   \n",
       "295     hhi_36  2010-09-30 0:00                    -5.504587    4.463924   \n",
       "\n",
       "     PER_growth  EPS_growth  Profit_growth  Revenue_growth  W/L  \n",
       "3     -7.549963   -4.404573         -34.26            1.01    0  \n",
       "4      7.639367  -25.801486         -13.95            4.15    1  \n",
       "5     25.633383  -16.996595         -38.17           -3.60    0  \n",
       "6     -6.913828    0.000000         -31.33            7.97    0  \n",
       "7     17.994377  -16.558115         -31.33            7.97    1  \n",
       "..          ...         ...            ...             ...  ...  \n",
       "291  -27.400000    8.694227         -26.24            6.39    0  \n",
       "292   -6.593407    4.813567          20.57           18.46    0  \n",
       "293    2.798233    0.000000          22.45            9.88    1  \n",
       "294    4.848485    2.482947          22.45            9.88    1  \n",
       "295  -35.350318   31.878274          39.37           16.22    1  \n",
       "\n",
       "[272 rows x 9 columns]"
      ]
     },
     "execution_count": 39,
     "metadata": {},
     "output_type": "execute_result"
    }
   ],
   "source": [
    "train_set"
   ]
  },
  {
   "cell_type": "code",
   "execution_count": 8,
   "metadata": {
    "scrolled": false
   },
   "outputs": [
    {
     "data": {
      "text/plain": [
       "Text(0.5, 1.0, 'Unconditional correlation betwen X1 and Y')"
      ]
     },
     "execution_count": 8,
     "metadata": {},
     "output_type": "execute_result"
    },
    {
     "data": {
      "image/png": "[encoded data removed]",
      "text/plain": [
       "<Figure size 432x288 with 1 Axes>"
      ]
     },
     "metadata": {
      "needs_background": "light"
     },
     "output_type": "display_data"
    }
   ],
   "source": [
    "plt.figure()\n",
    "\n",
    "#plt.subplot(121)\n",
    "plt.scatter(df[\"Divedend_yield_ratio_growth\"], df[\"W/L\"])\n",
    "plt.xlabel(\"X1\")\n",
    "plt.ylabel(\"Y\")\n",
    "plt.xlim(-100, 100)\n",
    "plt.ylim(-2, 2)\n",
    "plt.title(\"Unconditional correlation betwen X1 and Y\")"
   ]
  },
  {
   "cell_type": "code",
   "execution_count": 40,
   "metadata": {
    "scrolled": true
   },
   "outputs": [],
   "source": [
    "#features_treain, labels_train\n",
    "features_train = winsorize(train_set.iloc[:, 2:8], 0.05)\n",
    "labels_train = winsorize(train_set.iloc[:, 8:], 0.05)"
   ]
  },
  {
   "cell_type": "code",
   "execution_count": 41,
   "metadata": {},
   "outputs": [],
   "source": [
    "#featrues_test\n",
    "features_test = winsorize(test_set.iloc[:, 2:8], 0.05)\n",
    "labels_test = winsorize(test_set.iloc[:, 8:], 0.05)"
   ]
  },
  {
   "cell_type": "code",
   "execution_count": 42,
   "metadata": {
    "scrolled": true
   },
   "outputs": [
    {
     "name": "stderr",
     "output_type": "stream",
     "text": [
      "C:\\Users\\ASUS\\Anaconda3\\lib\\site-packages\\sklearn\\utils\\validation.py:724: DataConversionWarning: A column-vector y was passed when a 1d array was expected. Please change the shape of y to (n_samples, ), for example using ravel().\n",
      "  y = column_or_1d(y, warn=True)\n"
     ]
    },
    {
     "data": {
      "text/plain": [
       "GaussianNB(priors=None, var_smoothing=1e-09)"
      ]
     },
     "execution_count": 42,
     "metadata": {},
     "output_type": "execute_result"
    }
   ],
   "source": [
    "#Classifier 선언\n",
    "clf = GaussianNB()\n",
    "#fit 함수가 training sample을 이용한 학습을 진행하는 과정\n",
    "clf.fit(features_train, labels_train)\n"
   ]
  },
  {
   "cell_type": "code",
   "execution_count": 43,
   "metadata": {
    "scrolled": true
   },
   "outputs": [
    {
     "data": {
      "text/plain": [
       "array([[0.3372285 , 0.6627715 ],\n",
       "       [0.10592641, 0.89407359],\n",
       "       [0.24411118, 0.75588882],\n",
       "       [0.53812712, 0.46187288],\n",
       "       [0.95856912, 0.04143088],\n",
       "       [0.28656112, 0.71343888],\n",
       "       [0.731359  , 0.268641  ],\n",
       "       [0.34525355, 0.65474645],\n",
       "       [0.08549122, 0.91450878],\n",
       "       [0.95033829, 0.04966171],\n",
       "       [0.94752353, 0.05247647],\n",
       "       [0.37469197, 0.62530803],\n",
       "       [0.7215763 , 0.2784237 ],\n",
       "       [0.9487686 , 0.0512314 ],\n",
       "       [0.19892286, 0.80107714],\n",
       "       [0.34313312, 0.65686688],\n",
       "       [0.99327625, 0.00672375],\n",
       "       [0.09075198, 0.90924802],\n",
       "       [0.17345655, 0.82654345],\n",
       "       [0.94522198, 0.05477802],\n",
       "       [0.10792259, 0.89207741],\n",
       "       [0.40789008, 0.59210992],\n",
       "       [0.7716633 , 0.2283367 ],\n",
       "       [0.1502703 , 0.8497297 ]])"
      ]
     },
     "execution_count": 43,
     "metadata": {},
     "output_type": "execute_result"
    }
   ],
   "source": [
    "clf.predict_proba(features_test)   #w/Lclass prob [W,L]"
   ]
  },
  {
   "cell_type": "code",
   "execution_count": 44,
   "metadata": {
    "scrolled": true
   },
   "outputs": [
    {
     "data": {
      "text/plain": [
       "array([[-1.08699453, -0.411325  ],\n",
       "       [-2.24501067, -0.11196719],\n",
       "       [-1.4101315 , -0.27986098],\n",
       "       [-0.61966046, -0.77246559],\n",
       "       [-0.04231361, -3.18372868],\n",
       "       [-1.24980344, -0.33765851],\n",
       "       [-0.31285083, -1.31437936],\n",
       "       [-1.06347621, -0.42350722],\n",
       "       [-2.45934158, -0.08936821],\n",
       "       [-0.05093726, -3.00252109],\n",
       "       [-0.05390351, -2.94739033],\n",
       "       [-0.98165099, -0.46951091],\n",
       "       [-0.32631716, -1.27861121],\n",
       "       [-0.05259034, -2.97140271],\n",
       "       [-1.61483816, -0.22179803],\n",
       "       [-1.0696368 , -0.4202739 ],\n",
       "       [-0.00674646, -5.00210871],\n",
       "       [-2.399625  , -0.09513737],\n",
       "       [-1.75182815, -0.19050279],\n",
       "       [-0.05633548, -2.90446631],\n",
       "       [-2.22634105, -0.11420237],\n",
       "       [-0.89675755, -0.52406299],\n",
       "       [-0.25920696, -1.47693399],\n",
       "       [-1.89531964, -0.16283697]])"
      ]
     },
     "execution_count": 44,
     "metadata": {},
     "output_type": "execute_result"
    }
   ],
   "source": [
    "clf.predict_log_proba(features_test)  #predict prob 로그값 [winner, loser]"
   ]
  },
  {
   "cell_type": "code",
   "execution_count": 45,
   "metadata": {
    "scrolled": true
   },
   "outputs": [
    {
     "data": {
      "text/plain": [
       "array([1, 1, 1, 0, 0, 1, 0, 1, 1, 0, 0, 1, 0, 0, 1, 1, 0, 1, 1, 0, 1, 1,\n",
       "       0, 1], dtype=int64)"
      ]
     },
     "execution_count": 45,
     "metadata": {},
     "output_type": "execute_result"
    }
   ],
   "source": [
    "predict_class = clf.predict(features_test)  \n",
    "predict_class"
   ]
  },
  {
   "cell_type": "code",
   "execution_count": 46,
   "metadata": {},
   "outputs": [
    {
     "name": "stdout",
     "output_type": "stream",
     "text": [
      "score using accuracy:  0.7916666666666666\n"
     ]
    }
   ],
   "source": [
    "#Accuracy test\n",
    "#방법 1\n",
    "from sklearn.metrics import accuracy_score\n",
    "pred = clf.predict(features_test)    \n",
    "accuracy = accuracy_score(pred, labels_test)    \n",
    "print (\"score using accuracy: \", accuracy)"
   ]
  },
  {
   "cell_type": "code",
   "execution_count": 47,
   "metadata": {},
   "outputs": [
    {
     "name": "stdout",
     "output_type": "stream",
     "text": [
      "score function(default:accuracy):  0.7916666666666666\n"
     ]
    }
   ],
   "source": [
    "#방법 2\n",
    "print (\"score function(default:accuracy): \", clf.score(features_test, labels_test) )\n",
    "#classification에서 score 함수는 accuracy 방법을 사용하기에 방법 1, 방법 2의 값은 같음"
   ]
  },
  {
   "cell_type": "code",
   "execution_count": null,
   "metadata": {},
   "outputs": [],
   "source": []
  }
 ],
 "metadata": {
  "kernelspec": {
   "display_name": "Python 3",
   "language": "python",
   "name": "python3"
  },
  "language_info": {
   "codemirror_mode": {
    "name": "ipython",
    "version": 3
   },
   "file_extension": ".py",
   "mimetype": "text/x-python",
   "name": "python",
   "nbconvert_exporter": "python",
   "pygments_lexer": "ipython3",
   "version": "3.7.3"
  }
 },
 "nbformat": 4,
 "nbformat_minor": 2
}
