{
 "cells": [
  {
   "cell_type": "code",
   "execution_count": 106,
   "metadata": {},
   "outputs": [],
   "source": [
    "import pandas as pd\n",
    "from scipy.stats import norm\n",
    "import math"
   ]
  },
  {
   "cell_type": "code",
   "execution_count": 2,
   "metadata": {},
   "outputs": [],
   "source": [
    "data = pd.read_csv(\"final_data.csv\")"
   ]
  },
  {
   "cell_type": "code",
   "execution_count": 5,
   "metadata": {
    "scrolled": true
   },
   "outputs": [
    {
     "data": {
      "text/html": [
       "<div>\n",
       "<style scoped>\n",
       "    .dataframe tbody tr th:only-of-type {\n",
       "        vertical-align: middle;\n",
       "    }\n",
       "\n",
       "    .dataframe tbody tr th {\n",
       "        vertical-align: top;\n",
       "    }\n",
       "\n",
       "    .dataframe thead th {\n",
       "        text-align: right;\n",
       "    }\n",
       "</style>\n",
       "<table border=\"1\" class=\"dataframe\">\n",
       "  <thead>\n",
       "    <tr style=\"text-align: right;\">\n",
       "      <th></th>\n",
       "      <th>name</th>\n",
       "      <th>Date</th>\n",
       "      <th>Divedend_yield_ratio_growth</th>\n",
       "      <th>BPS_growth</th>\n",
       "      <th>PER_growth</th>\n",
       "      <th>EPS_growth</th>\n",
       "      <th>Profit_growth</th>\n",
       "      <th>Revenue_growth</th>\n",
       "      <th>W/L</th>\n",
       "    </tr>\n",
       "  </thead>\n",
       "  <tbody>\n",
       "    <tr>\n",
       "      <th>0</th>\n",
       "      <td>hyundai_0</td>\n",
       "      <td>2019-09-30 0:00</td>\n",
       "      <td>0.975610</td>\n",
       "      <td>3.048234</td>\n",
       "      <td>-7.142857</td>\n",
       "      <td>13.178898</td>\n",
       "      <td>16.56</td>\n",
       "      <td>6.13</td>\n",
       "      <td>0</td>\n",
       "    </tr>\n",
       "    <tr>\n",
       "      <th>1</th>\n",
       "      <td>hyundai_1</td>\n",
       "      <td>2019-06-28 0:00</td>\n",
       "      <td>-8.374384</td>\n",
       "      <td>-0.634511</td>\n",
       "      <td>15.818182</td>\n",
       "      <td>-11.763193</td>\n",
       "      <td>-6.01</td>\n",
       "      <td>5.12</td>\n",
       "      <td>1</td>\n",
       "    </tr>\n",
       "    <tr>\n",
       "      <th>2</th>\n",
       "      <td>hyundai_2</td>\n",
       "      <td>2019-03-29 0:00</td>\n",
       "      <td>-2.727273</td>\n",
       "      <td>0.000000</td>\n",
       "      <td>2.735781</td>\n",
       "      <td>0.000000</td>\n",
       "      <td>-34.26</td>\n",
       "      <td>1.01</td>\n",
       "      <td>1</td>\n",
       "    </tr>\n",
       "    <tr>\n",
       "      <th>3</th>\n",
       "      <td>hyundai_3</td>\n",
       "      <td>2018-12-28 0:00</td>\n",
       "      <td>11.061947</td>\n",
       "      <td>0.069947</td>\n",
       "      <td>-7.549963</td>\n",
       "      <td>-4.404573</td>\n",
       "      <td>-34.26</td>\n",
       "      <td>1.01</td>\n",
       "      <td>0</td>\n",
       "    </tr>\n",
       "    <tr>\n",
       "      <th>4</th>\n",
       "      <td>hyundai_4</td>\n",
       "      <td>2018-09-28 0:00</td>\n",
       "      <td>-6.965174</td>\n",
       "      <td>1.086317</td>\n",
       "      <td>7.639367</td>\n",
       "      <td>-25.801486</td>\n",
       "      <td>-13.95</td>\n",
       "      <td>4.15</td>\n",
       "      <td>1</td>\n",
       "    </tr>\n",
       "    <tr>\n",
       "      <th>...</th>\n",
       "      <td>...</td>\n",
       "      <td>...</td>\n",
       "      <td>...</td>\n",
       "      <td>...</td>\n",
       "      <td>...</td>\n",
       "      <td>...</td>\n",
       "      <td>...</td>\n",
       "      <td>...</td>\n",
       "      <td>...</td>\n",
       "    </tr>\n",
       "    <tr>\n",
       "      <th>291</th>\n",
       "      <td>hhi_32</td>\n",
       "      <td>2011-09-30 0:00</td>\n",
       "      <td>17.482517</td>\n",
       "      <td>8.516521</td>\n",
       "      <td>-27.400000</td>\n",
       "      <td>8.694227</td>\n",
       "      <td>-26.24</td>\n",
       "      <td>6.39</td>\n",
       "      <td>0</td>\n",
       "    </tr>\n",
       "    <tr>\n",
       "      <th>292</th>\n",
       "      <td>hhi_33</td>\n",
       "      <td>2011-06-30 0:00</td>\n",
       "      <td>18.644068</td>\n",
       "      <td>2.343066</td>\n",
       "      <td>-6.593407</td>\n",
       "      <td>4.813567</td>\n",
       "      <td>20.57</td>\n",
       "      <td>18.46</td>\n",
       "      <td>0</td>\n",
       "    </tr>\n",
       "    <tr>\n",
       "      <th>293</th>\n",
       "      <td>hhi_34</td>\n",
       "      <td>2011-03-31 0:00</td>\n",
       "      <td>-3.125000</td>\n",
       "      <td>0.000000</td>\n",
       "      <td>2.798233</td>\n",
       "      <td>0.000000</td>\n",
       "      <td>22.45</td>\n",
       "      <td>9.88</td>\n",
       "      <td>1</td>\n",
       "    </tr>\n",
       "    <tr>\n",
       "      <th>294</th>\n",
       "      <td>hhi_35</td>\n",
       "      <td>2010-12-30 0:00</td>\n",
       "      <td>-10.101010</td>\n",
       "      <td>3.773967</td>\n",
       "      <td>4.848485</td>\n",
       "      <td>2.482947</td>\n",
       "      <td>22.45</td>\n",
       "      <td>9.88</td>\n",
       "      <td>1</td>\n",
       "    </tr>\n",
       "    <tr>\n",
       "      <th>295</th>\n",
       "      <td>hhi_36</td>\n",
       "      <td>2010-09-30 0:00</td>\n",
       "      <td>-5.504587</td>\n",
       "      <td>4.463924</td>\n",
       "      <td>-35.350318</td>\n",
       "      <td>31.878274</td>\n",
       "      <td>39.37</td>\n",
       "      <td>16.22</td>\n",
       "      <td>1</td>\n",
       "    </tr>\n",
       "  </tbody>\n",
       "</table>\n",
       "<p>296 rows × 9 columns</p>\n",
       "</div>"
      ],
      "text/plain": [
       "          name             Date  Divedend_yield_ratio_growth  BPS_growth  \\\n",
       "0    hyundai_0  2019-09-30 0:00                     0.975610    3.048234   \n",
       "1    hyundai_1  2019-06-28 0:00                    -8.374384   -0.634511   \n",
       "2    hyundai_2  2019-03-29 0:00                    -2.727273    0.000000   \n",
       "3    hyundai_3  2018-12-28 0:00                    11.061947    0.069947   \n",
       "4    hyundai_4  2018-09-28 0:00                    -6.965174    1.086317   \n",
       "..         ...              ...                          ...         ...   \n",
       "291     hhi_32  2011-09-30 0:00                    17.482517    8.516521   \n",
       "292     hhi_33  2011-06-30 0:00                    18.644068    2.343066   \n",
       "293     hhi_34  2011-03-31 0:00                    -3.125000    0.000000   \n",
       "294     hhi_35  2010-12-30 0:00                   -10.101010    3.773967   \n",
       "295     hhi_36  2010-09-30 0:00                    -5.504587    4.463924   \n",
       "\n",
       "     PER_growth  EPS_growth  Profit_growth  Revenue_growth  W/L  \n",
       "0     -7.142857   13.178898          16.56            6.13    0  \n",
       "1     15.818182  -11.763193          -6.01            5.12    1  \n",
       "2      2.735781    0.000000         -34.26            1.01    1  \n",
       "3     -7.549963   -4.404573         -34.26            1.01    0  \n",
       "4      7.639367  -25.801486         -13.95            4.15    1  \n",
       "..          ...         ...            ...             ...  ...  \n",
       "291  -27.400000    8.694227         -26.24            6.39    0  \n",
       "292   -6.593407    4.813567          20.57           18.46    0  \n",
       "293    2.798233    0.000000          22.45            9.88    1  \n",
       "294    4.848485    2.482947          22.45            9.88    1  \n",
       "295  -35.350318   31.878274          39.37           16.22    1  \n",
       "\n",
       "[296 rows x 9 columns]"
      ]
     },
     "execution_count": 5,
     "metadata": {},
     "output_type": "execute_result"
    }
   ],
   "source": [
    "data"
   ]
  },
  {
   "cell_type": "code",
   "execution_count": 9,
   "metadata": {},
   "outputs": [],
   "source": [
    "# Win인 그룹\n",
    "win_group = data[data['W/L'] == 1]"
   ]
  },
  {
   "cell_type": "code",
   "execution_count": 10,
   "metadata": {},
   "outputs": [],
   "source": [
    "# Lose인 그룹\n",
    "lose_group = data[data['W/L'] == 0]"
   ]
  },
  {
   "cell_type": "markdown",
   "metadata": {},
   "source": [
    "### Win_group result만들기."
   ]
  },
  {
   "cell_type": "code",
   "execution_count": 22,
   "metadata": {},
   "outputs": [],
   "source": [
    "# column list로 구하기.\n",
    "columns = list(data.columns)\n",
    "\n",
    "# 필요없는 column 삭제\n",
    "columns.remove('name')\n",
    "columns.remove('Date')\n",
    "columns.remove('W/L')"
   ]
  },
  {
   "cell_type": "code",
   "execution_count": 27,
   "metadata": {},
   "outputs": [],
   "source": [
    "# win_group_result의 결과값을 저장할 dataframe 생성.\n",
    "win_group_result = pd.DataFrame(columns=columns)"
   ]
  },
  {
   "cell_type": "code",
   "execution_count": 29,
   "metadata": {},
   "outputs": [
    {
     "data": {
      "text/html": [
       "<div>\n",
       "<style scoped>\n",
       "    .dataframe tbody tr th:only-of-type {\n",
       "        vertical-align: middle;\n",
       "    }\n",
       "\n",
       "    .dataframe tbody tr th {\n",
       "        vertical-align: top;\n",
       "    }\n",
       "\n",
       "    .dataframe thead th {\n",
       "        text-align: right;\n",
       "    }\n",
       "</style>\n",
       "<table border=\"1\" class=\"dataframe\">\n",
       "  <thead>\n",
       "    <tr style=\"text-align: right;\">\n",
       "      <th></th>\n",
       "      <th>Divedend_yield_ratio_growth</th>\n",
       "      <th>BPS_growth</th>\n",
       "      <th>PER_growth</th>\n",
       "      <th>EPS_growth</th>\n",
       "      <th>Profit_growth</th>\n",
       "      <th>Revenue_growth</th>\n",
       "    </tr>\n",
       "  </thead>\n",
       "  <tbody>\n",
       "  </tbody>\n",
       "</table>\n",
       "</div>"
      ],
      "text/plain": [
       "Empty DataFrame\n",
       "Columns: [Divedend_yield_ratio_growth, BPS_growth, PER_growth, EPS_growth, Profit_growth, Revenue_growth]\n",
       "Index: []"
      ]
     },
     "execution_count": 29,
     "metadata": {},
     "output_type": "execute_result"
    }
   ],
   "source": [
    "win_group_result"
   ]
  },
  {
   "cell_type": "code",
   "execution_count": 39,
   "metadata": {
    "scrolled": true
   },
   "outputs": [],
   "source": [
    "mean_list = []\n",
    "std_list = []\n",
    "    \n",
    "for column in columns:\n",
    "    mean_list.append(win_group[column].mean()) #mean 추가\n",
    "    std_list.append(win_group[column].std()) #std 추가"
   ]
  },
  {
   "cell_type": "code",
   "execution_count": 40,
   "metadata": {},
   "outputs": [],
   "source": [
    "# 각각 자리에 넣기.\n",
    "win_group_result.loc[0] = mean_list\n",
    "win_group_result.loc[1] = std_list"
   ]
  },
  {
   "cell_type": "code",
   "execution_count": 42,
   "metadata": {},
   "outputs": [],
   "source": [
    "# cateogry column만들기.\n",
    "win_group_result['category'] = ['mean', 'std']"
   ]
  },
  {
   "cell_type": "code",
   "execution_count": 61,
   "metadata": {},
   "outputs": [],
   "source": [
    "# column에 category만들기.\n",
    "columns.insert(0,'category')"
   ]
  },
  {
   "cell_type": "code",
   "execution_count": 64,
   "metadata": {},
   "outputs": [],
   "source": [
    "win_group_result = win_group_result[columns]"
   ]
  },
  {
   "cell_type": "code",
   "execution_count": 65,
   "metadata": {},
   "outputs": [
    {
     "data": {
      "text/html": [
       "<div>\n",
       "<style scoped>\n",
       "    .dataframe tbody tr th:only-of-type {\n",
       "        vertical-align: middle;\n",
       "    }\n",
       "\n",
       "    .dataframe tbody tr th {\n",
       "        vertical-align: top;\n",
       "    }\n",
       "\n",
       "    .dataframe thead th {\n",
       "        text-align: right;\n",
       "    }\n",
       "</style>\n",
       "<table border=\"1\" class=\"dataframe\">\n",
       "  <thead>\n",
       "    <tr style=\"text-align: right;\">\n",
       "      <th></th>\n",
       "      <th>category</th>\n",
       "      <th>Divedend_yield_ratio_growth</th>\n",
       "      <th>BPS_growth</th>\n",
       "      <th>PER_growth</th>\n",
       "      <th>EPS_growth</th>\n",
       "      <th>Profit_growth</th>\n",
       "      <th>Revenue_growth</th>\n",
       "    </tr>\n",
       "  </thead>\n",
       "  <tbody>\n",
       "    <tr>\n",
       "      <th>0</th>\n",
       "      <td>mean</td>\n",
       "      <td>-5.873467</td>\n",
       "      <td>1.23825</td>\n",
       "      <td>2.007625</td>\n",
       "      <td>-3.811219</td>\n",
       "      <td>19.462038</td>\n",
       "      <td>7.363057</td>\n",
       "    </tr>\n",
       "    <tr>\n",
       "      <th>1</th>\n",
       "      <td>std</td>\n",
       "      <td>10.650978</td>\n",
       "      <td>6.51814</td>\n",
       "      <td>28.396892</td>\n",
       "      <td>58.094088</td>\n",
       "      <td>98.148602</td>\n",
       "      <td>12.122942</td>\n",
       "    </tr>\n",
       "  </tbody>\n",
       "</table>\n",
       "</div>"
      ],
      "text/plain": [
       "  category  Divedend_yield_ratio_growth  BPS_growth  PER_growth  EPS_growth  \\\n",
       "0     mean                    -5.873467     1.23825    2.007625   -3.811219   \n",
       "1      std                    10.650978     6.51814   28.396892   58.094088   \n",
       "\n",
       "   Profit_growth  Revenue_growth  \n",
       "0      19.462038        7.363057  \n",
       "1      98.148602       12.122942  "
      ]
     },
     "execution_count": 65,
     "metadata": {},
     "output_type": "execute_result"
    }
   ],
   "source": [
    "win_group_result"
   ]
  },
  {
   "cell_type": "markdown",
   "metadata": {},
   "source": [
    "### Loss group result만들기."
   ]
  },
  {
   "cell_type": "code",
   "execution_count": 66,
   "metadata": {},
   "outputs": [],
   "source": [
    "# column list로 구하기.\n",
    "columns = list(data.columns)\n",
    "\n",
    "# 필요없는 column 삭제\n",
    "columns.remove('name')\n",
    "columns.remove('Date')\n",
    "columns.remove('W/L')"
   ]
  },
  {
   "cell_type": "code",
   "execution_count": 67,
   "metadata": {},
   "outputs": [],
   "source": [
    "# win_group_result의 결과값을 저장할 dataframe 생성.\n",
    "lose_group_result = pd.DataFrame(columns=columns)"
   ]
  },
  {
   "cell_type": "code",
   "execution_count": 68,
   "metadata": {},
   "outputs": [
    {
     "data": {
      "text/html": [
       "<div>\n",
       "<style scoped>\n",
       "    .dataframe tbody tr th:only-of-type {\n",
       "        vertical-align: middle;\n",
       "    }\n",
       "\n",
       "    .dataframe tbody tr th {\n",
       "        vertical-align: top;\n",
       "    }\n",
       "\n",
       "    .dataframe thead th {\n",
       "        text-align: right;\n",
       "    }\n",
       "</style>\n",
       "<table border=\"1\" class=\"dataframe\">\n",
       "  <thead>\n",
       "    <tr style=\"text-align: right;\">\n",
       "      <th></th>\n",
       "      <th>Divedend_yield_ratio_growth</th>\n",
       "      <th>BPS_growth</th>\n",
       "      <th>PER_growth</th>\n",
       "      <th>EPS_growth</th>\n",
       "      <th>Profit_growth</th>\n",
       "      <th>Revenue_growth</th>\n",
       "    </tr>\n",
       "  </thead>\n",
       "  <tbody>\n",
       "  </tbody>\n",
       "</table>\n",
       "</div>"
      ],
      "text/plain": [
       "Empty DataFrame\n",
       "Columns: [Divedend_yield_ratio_growth, BPS_growth, PER_growth, EPS_growth, Profit_growth, Revenue_growth]\n",
       "Index: []"
      ]
     },
     "execution_count": 68,
     "metadata": {},
     "output_type": "execute_result"
    }
   ],
   "source": [
    "lose_group_result"
   ]
  },
  {
   "cell_type": "code",
   "execution_count": 69,
   "metadata": {
    "scrolled": true
   },
   "outputs": [],
   "source": [
    "mean_list = []\n",
    "std_list = []\n",
    "    \n",
    "for column in columns:\n",
    "    mean_list.append(lose_group[column].mean()) #mean 추가\n",
    "    std_list.append(lose_group[column].std()) #std 추가"
   ]
  },
  {
   "cell_type": "code",
   "execution_count": 70,
   "metadata": {},
   "outputs": [],
   "source": [
    "# 각각 자리에 넣기.\n",
    "lose_group_result.loc[0] = mean_list\n",
    "lose_group_result.loc[1] = std_list"
   ]
  },
  {
   "cell_type": "code",
   "execution_count": 71,
   "metadata": {},
   "outputs": [],
   "source": [
    "# cateogry column만들기.\n",
    "lose_group_result['category'] = ['mean', 'std']"
   ]
  },
  {
   "cell_type": "code",
   "execution_count": 72,
   "metadata": {},
   "outputs": [],
   "source": [
    "# column에 category만들기.\n",
    "columns.insert(0,'category')"
   ]
  },
  {
   "cell_type": "code",
   "execution_count": 73,
   "metadata": {},
   "outputs": [],
   "source": [
    "lose_group_result = lose_group_result[columns]"
   ]
  },
  {
   "cell_type": "code",
   "execution_count": 74,
   "metadata": {},
   "outputs": [
    {
     "data": {
      "text/html": [
       "<div>\n",
       "<style scoped>\n",
       "    .dataframe tbody tr th:only-of-type {\n",
       "        vertical-align: middle;\n",
       "    }\n",
       "\n",
       "    .dataframe tbody tr th {\n",
       "        vertical-align: top;\n",
       "    }\n",
       "\n",
       "    .dataframe thead th {\n",
       "        text-align: right;\n",
       "    }\n",
       "</style>\n",
       "<table border=\"1\" class=\"dataframe\">\n",
       "  <thead>\n",
       "    <tr style=\"text-align: right;\">\n",
       "      <th></th>\n",
       "      <th>category</th>\n",
       "      <th>Divedend_yield_ratio_growth</th>\n",
       "      <th>BPS_growth</th>\n",
       "      <th>PER_growth</th>\n",
       "      <th>EPS_growth</th>\n",
       "      <th>Profit_growth</th>\n",
       "      <th>Revenue_growth</th>\n",
       "    </tr>\n",
       "  </thead>\n",
       "  <tbody>\n",
       "    <tr>\n",
       "      <th>0</th>\n",
       "      <td>mean</td>\n",
       "      <td>8.647425</td>\n",
       "      <td>1.635167</td>\n",
       "      <td>7.803929</td>\n",
       "      <td>-20.833819</td>\n",
       "      <td>34.004317</td>\n",
       "      <td>7.116187</td>\n",
       "    </tr>\n",
       "    <tr>\n",
       "      <th>1</th>\n",
       "      <td>std</td>\n",
       "      <td>11.954154</td>\n",
       "      <td>9.291772</td>\n",
       "      <td>128.376318</td>\n",
       "      <td>269.897764</td>\n",
       "      <td>166.786023</td>\n",
       "      <td>11.895610</td>\n",
       "    </tr>\n",
       "  </tbody>\n",
       "</table>\n",
       "</div>"
      ],
      "text/plain": [
       "  category  Divedend_yield_ratio_growth  BPS_growth  PER_growth  EPS_growth  \\\n",
       "0     mean                     8.647425    1.635167    7.803929  -20.833819   \n",
       "1      std                    11.954154    9.291772  128.376318  269.897764   \n",
       "\n",
       "   Profit_growth  Revenue_growth  \n",
       "0      34.004317        7.116187  \n",
       "1     166.786023       11.895610  "
      ]
     },
     "execution_count": 74,
     "metadata": {},
     "output_type": "execute_result"
    }
   ],
   "source": [
    "lose_group_result"
   ]
  },
  {
   "cell_type": "markdown",
   "metadata": {},
   "source": [
    "# WIN_LOSS 계산"
   ]
  },
  {
   "cell_type": "code",
   "execution_count": 75,
   "metadata": {},
   "outputs": [
    {
     "data": {
      "text/html": [
       "<div>\n",
       "<style scoped>\n",
       "    .dataframe tbody tr th:only-of-type {\n",
       "        vertical-align: middle;\n",
       "    }\n",
       "\n",
       "    .dataframe tbody tr th {\n",
       "        vertical-align: top;\n",
       "    }\n",
       "\n",
       "    .dataframe thead th {\n",
       "        text-align: right;\n",
       "    }\n",
       "</style>\n",
       "<table border=\"1\" class=\"dataframe\">\n",
       "  <thead>\n",
       "    <tr style=\"text-align: right;\">\n",
       "      <th></th>\n",
       "      <th>category</th>\n",
       "      <th>Divedend_yield_ratio_growth</th>\n",
       "      <th>BPS_growth</th>\n",
       "      <th>PER_growth</th>\n",
       "      <th>EPS_growth</th>\n",
       "      <th>Profit_growth</th>\n",
       "      <th>Revenue_growth</th>\n",
       "    </tr>\n",
       "  </thead>\n",
       "  <tbody>\n",
       "    <tr>\n",
       "      <th>0</th>\n",
       "      <td>mean</td>\n",
       "      <td>-5.873467</td>\n",
       "      <td>1.23825</td>\n",
       "      <td>2.007625</td>\n",
       "      <td>-3.811219</td>\n",
       "      <td>19.462038</td>\n",
       "      <td>7.363057</td>\n",
       "    </tr>\n",
       "    <tr>\n",
       "      <th>1</th>\n",
       "      <td>std</td>\n",
       "      <td>10.650978</td>\n",
       "      <td>6.51814</td>\n",
       "      <td>28.396892</td>\n",
       "      <td>58.094088</td>\n",
       "      <td>98.148602</td>\n",
       "      <td>12.122942</td>\n",
       "    </tr>\n",
       "  </tbody>\n",
       "</table>\n",
       "</div>"
      ],
      "text/plain": [
       "  category  Divedend_yield_ratio_growth  BPS_growth  PER_growth  EPS_growth  \\\n",
       "0     mean                    -5.873467     1.23825    2.007625   -3.811219   \n",
       "1      std                    10.650978     6.51814   28.396892   58.094088   \n",
       "\n",
       "   Profit_growth  Revenue_growth  \n",
       "0      19.462038        7.363057  \n",
       "1      98.148602       12.122942  "
      ]
     },
     "execution_count": 75,
     "metadata": {},
     "output_type": "execute_result"
    }
   ],
   "source": [
    "win_group_result"
   ]
  },
  {
   "cell_type": "code",
   "execution_count": 76,
   "metadata": {},
   "outputs": [
    {
     "data": {
      "text/html": [
       "<div>\n",
       "<style scoped>\n",
       "    .dataframe tbody tr th:only-of-type {\n",
       "        vertical-align: middle;\n",
       "    }\n",
       "\n",
       "    .dataframe tbody tr th {\n",
       "        vertical-align: top;\n",
       "    }\n",
       "\n",
       "    .dataframe thead th {\n",
       "        text-align: right;\n",
       "    }\n",
       "</style>\n",
       "<table border=\"1\" class=\"dataframe\">\n",
       "  <thead>\n",
       "    <tr style=\"text-align: right;\">\n",
       "      <th></th>\n",
       "      <th>category</th>\n",
       "      <th>Divedend_yield_ratio_growth</th>\n",
       "      <th>BPS_growth</th>\n",
       "      <th>PER_growth</th>\n",
       "      <th>EPS_growth</th>\n",
       "      <th>Profit_growth</th>\n",
       "      <th>Revenue_growth</th>\n",
       "    </tr>\n",
       "  </thead>\n",
       "  <tbody>\n",
       "    <tr>\n",
       "      <th>0</th>\n",
       "      <td>mean</td>\n",
       "      <td>8.647425</td>\n",
       "      <td>1.635167</td>\n",
       "      <td>7.803929</td>\n",
       "      <td>-20.833819</td>\n",
       "      <td>34.004317</td>\n",
       "      <td>7.116187</td>\n",
       "    </tr>\n",
       "    <tr>\n",
       "      <th>1</th>\n",
       "      <td>std</td>\n",
       "      <td>11.954154</td>\n",
       "      <td>9.291772</td>\n",
       "      <td>128.376318</td>\n",
       "      <td>269.897764</td>\n",
       "      <td>166.786023</td>\n",
       "      <td>11.895610</td>\n",
       "    </tr>\n",
       "  </tbody>\n",
       "</table>\n",
       "</div>"
      ],
      "text/plain": [
       "  category  Divedend_yield_ratio_growth  BPS_growth  PER_growth  EPS_growth  \\\n",
       "0     mean                     8.647425    1.635167    7.803929  -20.833819   \n",
       "1      std                    11.954154    9.291772  128.376318  269.897764   \n",
       "\n",
       "   Profit_growth  Revenue_growth  \n",
       "0      34.004317        7.116187  \n",
       "1     166.786023       11.895610  "
      ]
     },
     "execution_count": 76,
     "metadata": {},
     "output_type": "execute_result"
    }
   ],
   "source": [
    "lose_group_result"
   ]
  },
  {
   "cell_type": "code",
   "execution_count": 81,
   "metadata": {},
   "outputs": [
    {
     "data": {
      "text/plain": [
       "0.030459881364505555"
      ]
     },
     "execution_count": 81,
     "metadata": {},
     "output_type": "execute_result"
    }
   ],
   "source": [
    "norm.pdf(0.97561,-5.873467,10.650978)"
   ]
  },
  {
   "cell_type": "code",
   "execution_count": null,
   "metadata": {},
   "outputs": [],
   "source": [
    "norm.pdf()"
   ]
  },
  {
   "cell_type": "code",
   "execution_count": 105,
   "metadata": {},
   "outputs": [
    {
     "data": {
      "text/plain": [
       "-5.873466993171975"
      ]
     },
     "execution_count": 105,
     "metadata": {},
     "output_type": "execute_result"
    }
   ],
   "source": [
    "win_group_result.iloc[0,1]"
   ]
  },
  {
   "cell_type": "code",
   "execution_count": 100,
   "metadata": {},
   "outputs": [
    {
     "data": {
      "text/html": [
       "<div>\n",
       "<style scoped>\n",
       "    .dataframe tbody tr th:only-of-type {\n",
       "        vertical-align: middle;\n",
       "    }\n",
       "\n",
       "    .dataframe tbody tr th {\n",
       "        vertical-align: top;\n",
       "    }\n",
       "\n",
       "    .dataframe thead th {\n",
       "        text-align: right;\n",
       "    }\n",
       "</style>\n",
       "<table border=\"1\" class=\"dataframe\">\n",
       "  <thead>\n",
       "    <tr style=\"text-align: right;\">\n",
       "      <th></th>\n",
       "      <th>category</th>\n",
       "      <th>Divedend_yield_ratio_growth</th>\n",
       "      <th>BPS_growth</th>\n",
       "      <th>PER_growth</th>\n",
       "      <th>EPS_growth</th>\n",
       "      <th>Profit_growth</th>\n",
       "      <th>Revenue_growth</th>\n",
       "    </tr>\n",
       "  </thead>\n",
       "  <tbody>\n",
       "    <tr>\n",
       "      <th>0</th>\n",
       "      <td>mean</td>\n",
       "      <td>-5.873467</td>\n",
       "      <td>1.23825</td>\n",
       "      <td>2.007625</td>\n",
       "      <td>-3.811219</td>\n",
       "      <td>19.462038</td>\n",
       "      <td>7.363057</td>\n",
       "    </tr>\n",
       "    <tr>\n",
       "      <th>1</th>\n",
       "      <td>std</td>\n",
       "      <td>10.650978</td>\n",
       "      <td>6.51814</td>\n",
       "      <td>28.396892</td>\n",
       "      <td>58.094088</td>\n",
       "      <td>98.148602</td>\n",
       "      <td>12.122942</td>\n",
       "    </tr>\n",
       "  </tbody>\n",
       "</table>\n",
       "</div>"
      ],
      "text/plain": [
       "  category  Divedend_yield_ratio_growth  BPS_growth  PER_growth  EPS_growth  \\\n",
       "0     mean                    -5.873467     1.23825    2.007625   -3.811219   \n",
       "1      std                    10.650978     6.51814   28.396892   58.094088   \n",
       "\n",
       "   Profit_growth  Revenue_growth  \n",
       "0      19.462038        7.363057  \n",
       "1      98.148602       12.122942  "
      ]
     },
     "execution_count": 100,
     "metadata": {},
     "output_type": "execute_result"
    }
   ],
   "source": [
    "win_group_result"
   ]
  },
  {
   "cell_type": "code",
   "execution_count": 89,
   "metadata": {},
   "outputs": [],
   "source": [
    "test = data.iloc[0][2:-1]"
   ]
  },
  {
   "cell_type": "code",
   "execution_count": 108,
   "metadata": {},
   "outputs": [
    {
     "data": {
      "text/plain": [
       "-24.589400395143617"
      ]
     },
     "execution_count": 108,
     "metadata": {},
     "output_type": "execute_result"
    }
   ],
   "source": [
    "# win_group prob 구하기.\n",
    "\n",
    "result = 1\n",
    "for i in range(len(test)):\n",
    "    prob = norm.pdf(test[i], win_group_result.iloc[0, i+1], win_group_result.iloc[1, i+1])\n",
    "    result *= prob\n",
    "    \n",
    "math.log(result)"
   ]
  },
  {
   "cell_type": "code",
   "execution_count": 109,
   "metadata": {},
   "outputs": [
    {
     "data": {
      "text/plain": [
       "-28.51085229220576"
      ]
     },
     "execution_count": 109,
     "metadata": {},
     "output_type": "execute_result"
    }
   ],
   "source": [
    "# loss_group prob 구하기.\n",
    "\n",
    "result = 1\n",
    "for i in range(len(test)):\n",
    "    prob = norm.pdf(test[i], lose_group_result.iloc[0, i+1], lose_group_result.iloc[1, i+1])\n",
    "    result *= prob\n",
    "    \n",
    "math.log(result)"
   ]
  },
  {
   "cell_type": "markdown",
   "metadata": {},
   "source": [
    "# Win_Lose dataframe 구하기."
   ]
  },
  {
   "cell_type": "code",
   "execution_count": 119,
   "metadata": {},
   "outputs": [],
   "source": [
    "temp_column = ['name','win_prob', 'loss_prob', 'result']"
   ]
  },
  {
   "cell_type": "code",
   "execution_count": 120,
   "metadata": {},
   "outputs": [],
   "source": [
    "win_lose_cal = pd.DataFrame(columns=temp_column)"
   ]
  },
  {
   "cell_type": "code",
   "execution_count": 121,
   "metadata": {},
   "outputs": [
    {
     "data": {
      "text/html": [
       "<div>\n",
       "<style scoped>\n",
       "    .dataframe tbody tr th:only-of-type {\n",
       "        vertical-align: middle;\n",
       "    }\n",
       "\n",
       "    .dataframe tbody tr th {\n",
       "        vertical-align: top;\n",
       "    }\n",
       "\n",
       "    .dataframe thead th {\n",
       "        text-align: right;\n",
       "    }\n",
       "</style>\n",
       "<table border=\"1\" class=\"dataframe\">\n",
       "  <thead>\n",
       "    <tr style=\"text-align: right;\">\n",
       "      <th></th>\n",
       "      <th>name</th>\n",
       "      <th>win_prob</th>\n",
       "      <th>loss_prob</th>\n",
       "      <th>result</th>\n",
       "    </tr>\n",
       "  </thead>\n",
       "  <tbody>\n",
       "  </tbody>\n",
       "</table>\n",
       "</div>"
      ],
      "text/plain": [
       "Empty DataFrame\n",
       "Columns: [name, win_prob, loss_prob, result]\n",
       "Index: []"
      ]
     },
     "execution_count": 121,
     "metadata": {},
     "output_type": "execute_result"
    }
   ],
   "source": [
    "win_lose_cal"
   ]
  },
  {
   "cell_type": "code",
   "execution_count": 125,
   "metadata": {},
   "outputs": [
    {
     "data": {
      "text/plain": [
       "'hhi_36'"
      ]
     },
     "execution_count": 125,
     "metadata": {},
     "output_type": "execute_result"
    }
   ],
   "source": [
    "test = data.iloc[0][:-1]\n",
    "data.iloc[i][0]"
   ]
  },
  {
   "cell_type": "code",
   "execution_count": 131,
   "metadata": {},
   "outputs": [
    {
     "name": "stdout",
     "output_type": "stream",
     "text": [
      "0.0\n"
     ]
    }
   ],
   "source": [
    "# 임의의 win_prob과 loss_prob그리고 결과를 담는 dataframe 만들기.\n",
    "temp_column = ['name','win_prob', 'loss_prob', 'result']\n",
    "\n",
    "win_lose_cal = pd.DataFrame(columns=temp_column)\n",
    "\n",
    "for i in range(len(data)):\n",
    "    \n",
    "    temp_col = []\n",
    "    \n",
    "    test = data.iloc[i][2:-1]\n",
    "    \n",
    "    temp_col.append(data.iloc[i][0]) # 이름 추가\n",
    "    \n",
    "    result = 1\n",
    "    \n",
    "    for j in range(len(test)):\n",
    "        prob = norm.pdf(test[j], win_group_result.iloc[0, j+1], win_group_result.iloc[1, j+1])\n",
    "        result *= prob\n",
    "    \n",
    "    try:\n",
    "        win_prob = math.log(result)\n",
    "    except:\n",
    "        print(result)\n",
    "        win_prob = -math.inf\n",
    "        \n",
    "    temp_col.append(win_prob) # 이길 확률 추가.\n",
    "    \n",
    "    result = 1\n",
    "    \n",
    "    for j in range(len(test)):\n",
    "        prob = norm.pdf(test[j], lose_group_result.iloc[0, j+1], lose_group_result.iloc[1, j+1])\n",
    "        result *= prob\n",
    "    \n",
    "    try:\n",
    "        lose_prob = math.log(result)\n",
    "    except:\n",
    "        print(result)\n",
    "        lose_prob = -math.inf\n",
    "        \n",
    "    temp_col.append(lose_prob) # 질 확률 추가.\n",
    "    \n",
    "    # WIN/LOSE 추가\n",
    "    if win_prob > lose_prob:\n",
    "        temp_col.append(1)\n",
    "    elif win_prob < lose_prob:\n",
    "        temp_col.append(0)\n",
    "    else:\n",
    "        temp_col.append('Draw')\n",
    "        \n",
    "    \n",
    "    win_lose_cal.loc[i] = temp_col"
   ]
  },
  {
   "cell_type": "code",
   "execution_count": 168,
   "metadata": {},
   "outputs": [],
   "source": [
    "# 원래 결과값과 맞는 값\n",
    "correct_guess = data[data['W/L'] == win_lose_cal['result']]"
   ]
  },
  {
   "cell_type": "code",
   "execution_count": 169,
   "metadata": {},
   "outputs": [],
   "source": [
    "# 결과값이 틀린 값\n",
    "wrong_guess = data[data['W/L'] != win_lose_cal['result']]"
   ]
  },
  {
   "cell_type": "code",
   "execution_count": 170,
   "metadata": {},
   "outputs": [
    {
     "data": {
      "text/plain": [
       "170"
      ]
     },
     "execution_count": 170,
     "metadata": {},
     "output_type": "execute_result"
    }
   ],
   "source": [
    "# 맞는 결과의 개수\n",
    "len(correct_guess)"
   ]
  },
  {
   "cell_type": "code",
   "execution_count": 171,
   "metadata": {},
   "outputs": [
    {
     "data": {
      "text/plain": [
       "126"
      ]
     },
     "execution_count": 171,
     "metadata": {},
     "output_type": "execute_result"
    }
   ],
   "source": [
    "# 틀린 결과의 개수\n",
    "len(wrong_guess)"
   ]
  }
 ],
 "metadata": {
  "kernelspec": {
   "display_name": "Python 3",
   "language": "python",
   "name": "python3"
  },
  "language_info": {
   "codemirror_mode": {
    "name": "ipython",
    "version": 3
   },
   "file_extension": ".py",
   "mimetype": "text/x-python",
   "name": "python",
   "nbconvert_exporter": "python",
   "pygments_lexer": "ipython3",
   "version": "3.7.3"
  }
 },
 "nbformat": 4,
 "nbformat_minor": 2
}
